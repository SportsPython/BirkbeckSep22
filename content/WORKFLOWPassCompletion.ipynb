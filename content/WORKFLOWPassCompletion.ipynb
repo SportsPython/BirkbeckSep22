{
 "cells": [
  {
   "cell_type": "markdown",
   "id": "a875089a-bc65-484b-88dd-9816c08f5cd8",
   "metadata": {},
   "source": [
    "## Workflow - Pass Completion Rate (Player)"
   ]
  },
  {
   "cell_type": "markdown",
   "id": "3b1d4073-068f-4c8c-804e-3c1518f80a56",
   "metadata": {},
   "source": [
    "---\n",
    "> ### 1. SET UP DEVELOPMENT ENVIRONMENT"
   ]
  },
  {
   "cell_type": "markdown",
   "id": "9b88fdc5-18cf-486b-be4a-0e1dbeca193e",
   "metadata": {},
   "source": [
    "**1.0 Import required Python software into current development environment (i.e. this notebook)**\n",
    "```\n",
    "import pandas as pd\n",
    "```"
   ]
  },
  {
   "cell_type": "code",
   "execution_count": null,
   "id": "37329167-611d-42da-b8ba-b45eceefe338",
   "metadata": {},
   "outputs": [],
   "source": []
  },
  {
   "cell_type": "code",
   "execution_count": null,
   "id": "10636888-702a-4713-bd4a-7c9f7733eb88",
   "metadata": {},
   "outputs": [],
   "source": []
  },
  {
   "cell_type": "markdown",
   "id": "87928450-7506-49d2-9f93-b8b1747c65f1",
   "metadata": {},
   "source": [
    "**1.1 Configure notebook for code autocompletion + displaying plots + displaying max columns and rows of panda data objects**\n",
    "```\n",
    "%config Completer.use_jedi = False\n",
    "%matplotlib inline\n",
    "pd.options.display.max_columns = None\n",
    "pd.options.display.max_rows = None\n",
    "```"
   ]
  },
  {
   "cell_type": "code",
   "execution_count": null,
   "id": "a8e837fd-c668-491c-9084-15c7024c6bab",
   "metadata": {},
   "outputs": [],
   "source": []
  },
  {
   "cell_type": "code",
   "execution_count": null,
   "id": "8f15bce0-21ad-438c-8c42-bcbaa8a6eded",
   "metadata": {},
   "outputs": [],
   "source": []
  },
  {
   "cell_type": "markdown",
   "id": "5a68d8f4-edcf-4c70-8238-e629a63368e6",
   "metadata": {},
   "source": [
    "---\n",
    "> ### 2. LOAD & PREP DATA"
   ]
  },
  {
   "cell_type": "markdown",
   "id": "0a40a3c5-cdb7-4c47-ad55-5cf52d5eb92d",
   "metadata": {},
   "source": [
    "**2.0 Data Load** - read in the `match_events.csv` file located in the `data` directory (folder)\n",
    "```\n",
    "raw_data = pd.read_csv(\"data/match_events.csv\")\n",
    "```"
   ]
  },
  {
   "cell_type": "code",
   "execution_count": null,
   "id": "42bc597e-e313-417f-9017-3323bedcf845",
   "metadata": {},
   "outputs": [],
   "source": []
  },
  {
   "cell_type": "code",
   "execution_count": null,
   "id": "bb4fb3c9-37ee-49b3-96cb-c760997c9e7f",
   "metadata": {},
   "outputs": [],
   "source": []
  },
  {
   "cell_type": "markdown",
   "id": "b6e02c69-b3d4-4a25-ba95-bd4c931d332c",
   "metadata": {},
   "source": [
    "**2.1 Data Prep** - make a copy of raw data to work on called `df`\n",
    "\n",
    "```\n",
    "df = raw_data.copy()\n",
    "```"
   ]
  },
  {
   "cell_type": "code",
   "execution_count": null,
   "id": "ae017ad5-a58d-44ca-ad28-5040314ede10",
   "metadata": {},
   "outputs": [],
   "source": []
  },
  {
   "cell_type": "code",
   "execution_count": null,
   "id": "e9eddc7b-db95-40b0-b2d0-33508b08caea",
   "metadata": {},
   "outputs": [],
   "source": []
  },
  {
   "cell_type": "markdown",
   "id": "5982a280-e252-4bdb-a39f-8f29f3f5c76e",
   "metadata": {},
   "source": [
    "**2.2 Data Prep** - use the `head()` function to check the first 5 rows of the `df` object, which is a `pandas` dataframe (df), basically a 2 dimensional data structure with rows & columns \n",
    "```\n",
    "df.head()\n",
    "```"
   ]
  },
  {
   "cell_type": "code",
   "execution_count": null,
   "id": "27c498d3-8c39-4c52-a703-9c2892ceaa43",
   "metadata": {},
   "outputs": [],
   "source": []
  },
  {
   "cell_type": "code",
   "execution_count": null,
   "id": "0f244260-7419-4680-9faa-6ef20b9c61c8",
   "metadata": {},
   "outputs": [],
   "source": []
  },
  {
   "cell_type": "markdown",
   "id": "c6b24743-7610-4836-aa96-c6c7be21b391",
   "metadata": {},
   "source": [
    "**2.3 Data Prep** - check the dimensions of the `df` (<no. of rows>, <no. of columns>). Should be (1854, 18).\n",
    "```\n",
    "df.shape\n",
    "```"
   ]
  },
  {
   "cell_type": "code",
   "execution_count": null,
   "id": "44a5ae47-0cfb-4910-b840-6520f0de2ec5",
   "metadata": {},
   "outputs": [],
   "source": []
  },
  {
   "cell_type": "code",
   "execution_count": null,
   "id": "1ad6ce3e-3971-4ddd-b631-e6622f974b8e",
   "metadata": {},
   "outputs": [],
   "source": []
  },
  {
   "cell_type": "markdown",
   "id": "5f8951f3-d686-4685-b0f8-459838de8fd0",
   "metadata": {},
   "source": [
    "---\n",
    "> ### 3. EXPLORATORY DATA ANALYSIS (EDA)"
   ]
  },
  {
   "cell_type": "markdown",
   "id": "265e8efc-f636-4ed7-971a-e92026c7dd05",
   "metadata": {},
   "source": [
    "**3.0 EDA** - select just the `player1` column from `df` and chain the `value_counts()` function onto this to generate a frequency table \n",
    "```\n",
    "df[\"player1\"].value_counts()\n",
    "```"
   ]
  },
  {
   "cell_type": "code",
   "execution_count": null,
   "id": "6da3f5c2-3c74-49be-95eb-4103bb19062f",
   "metadata": {
    "tags": []
   },
   "outputs": [],
   "source": []
  },
  {
   "cell_type": "code",
   "execution_count": null,
   "id": "c5ec27a7-a9c6-47c9-a17e-f52adc8aba58",
   "metadata": {},
   "outputs": [],
   "source": []
  },
  {
   "cell_type": "markdown",
   "id": "c5022af1-fb11-4a45-ac7b-e2f98a27c62f",
   "metadata": {},
   "source": [
    "**3.1 EDA** - copy the code from `3.0` and edit to also select the `event` column as well\n",
    "```\n",
    "df[[\"player1\", \"event\"]].value_counts()\n",
    "```"
   ]
  },
  {
   "cell_type": "code",
   "execution_count": null,
   "id": "cf0debbc-7009-4d12-b8f4-16a092cac279",
   "metadata": {
    "tags": []
   },
   "outputs": [],
   "source": []
  },
  {
   "cell_type": "code",
   "execution_count": null,
   "id": "c82ae9a7-bb7c-4993-ae69-f925b870271e",
   "metadata": {},
   "outputs": [],
   "source": []
  },
  {
   "cell_type": "markdown",
   "id": "530181e2-c246-4d5c-a94f-b1e22f7dc252",
   "metadata": {},
   "source": [
    "**3.2 EDA** - create a new variable (object) called `pass_filter` that can be used to filter the `df` for either `\"completed_pass\"` and `\"incomplete_pass\"` events\n",
    "```\n",
    "pass_filter = (df[\"event\"] == \"completed_pass\") | (df[\"event\"] == \"incomplete_pass\")\n",
    "```"
   ]
  },
  {
   "cell_type": "code",
   "execution_count": null,
   "id": "badf05a7-0730-4e30-84c2-aa5904e9b409",
   "metadata": {},
   "outputs": [],
   "source": []
  },
  {
   "cell_type": "code",
   "execution_count": null,
   "id": "71626025-48cc-4f8a-8a97-1060d9ce82e7",
   "metadata": {},
   "outputs": [],
   "source": []
  },
  {
   "cell_type": "markdown",
   "id": "047e4716-8b58-4b47-97f1-9d5dd36e0710",
   "metadata": {},
   "source": [
    "**3.3 EDA** - use the `pass_filter` to view the `df` filtered for `\"completed_pass\"` and `\"incomplete_pass\"` events, also chaining on the `head()` function \n",
    "```\n",
    "df[pass_filter].head()\n",
    "```"
   ]
  },
  {
   "cell_type": "code",
   "execution_count": null,
   "id": "a26a5382-799b-4b1a-828f-b147a7a6dd98",
   "metadata": {
    "tags": []
   },
   "outputs": [],
   "source": []
  },
  {
   "cell_type": "code",
   "execution_count": null,
   "id": "f77810c5-d4ee-468c-9814-b3351bd9b19d",
   "metadata": {},
   "outputs": [],
   "source": []
  },
  {
   "cell_type": "markdown",
   "id": "8973b5b0-9786-4fb5-887f-d51be1a24089",
   "metadata": {},
   "source": [
    "**3.4 EDA** - copy the code in `3.3` and chain a `groupby()` function to this which specifies `player1` and `event` as the columns for grouping the data, also chaining a `size()` function after \n",
    "```\n",
    "df[pass_filter].groupby([\"player1\", \"event\"]).size()\n",
    "```"
   ]
  },
  {
   "cell_type": "code",
   "execution_count": null,
   "id": "b8efee56-4ae9-4f10-918d-a96ab12d51bb",
   "metadata": {
    "tags": []
   },
   "outputs": [],
   "source": []
  },
  {
   "cell_type": "code",
   "execution_count": null,
   "id": "84bb7d34-4c12-4a24-af47-41625ee8b430",
   "metadata": {},
   "outputs": [],
   "source": []
  },
  {
   "cell_type": "markdown",
   "id": "71abc7eb-33b3-4728-9cdd-1d30fb1282cd",
   "metadata": {},
   "source": [
    "**3.5 EDA** - copy the code from `3.4` and further chain an `unstack()` function to this\n",
    "```\n",
    "df[pass_filter].groupby( [\"player1\", \"event\"]).size().unstack()\n",
    "```"
   ]
  },
  {
   "cell_type": "code",
   "execution_count": null,
   "id": "9b268d4b-ca20-428c-9110-08219a1ed11e",
   "metadata": {
    "tags": []
   },
   "outputs": [],
   "source": []
  },
  {
   "cell_type": "code",
   "execution_count": null,
   "id": "f9ec73c5-803d-4979-9d6d-75b107e7677e",
   "metadata": {},
   "outputs": [],
   "source": []
  },
  {
   "cell_type": "markdown",
   "id": "99969a94-1545-47a5-b13c-f92d60194de6",
   "metadata": {},
   "source": [
    "**3.6 EDA** - copy the code from `3.5` and further chain a `sort_values()` function to this, specifying the `completed_pass` as the column to use for sorting, and to sort in descending order, i.e. `ascending = False`\n",
    "```\n",
    "df[pass_filter].groupby([\"player1\", \"event\"]).size().unstack().sort_values(\"completed_pass\", ascending=False)\n",
    "```"
   ]
  },
  {
   "cell_type": "code",
   "execution_count": null,
   "id": "f9242a3e-e48a-4d2a-817e-782cb276b9ab",
   "metadata": {},
   "outputs": [],
   "source": []
  },
  {
   "cell_type": "code",
   "execution_count": null,
   "id": "40b3c43b-ab7b-4d9d-99e9-0537bb3a4435",
   "metadata": {},
   "outputs": [],
   "source": []
  },
  {
   "cell_type": "markdown",
   "id": "f34868ab-dd96-444c-b85d-2fd609d4b2bd",
   "metadata": {},
   "source": [
    "**3.7 EDA** - copy the code from `3.6` and further chain a `sort_values()` function to this, specifying the `completed_pass` as the column to use for sorting, and to sort in descending order, i.e. `ascending = False`\n",
    "```\n",
    "df[pass_filter].groupby([\"player1\", \"event\"]).size().unstack().sort_values(\"completed_pass\", ascending=False)\n",
    "```"
   ]
  },
  {
   "cell_type": "code",
   "execution_count": null,
   "id": "c5d346c2-5ce3-4c81-86c2-297cc03e2b5b",
   "metadata": {},
   "outputs": [],
   "source": []
  },
  {
   "cell_type": "code",
   "execution_count": null,
   "id": "3e653c71-34e1-4286-b0c3-ae8f8339c0a6",
   "metadata": {},
   "outputs": [],
   "source": []
  },
  {
   "cell_type": "markdown",
   "id": "0050256f-1dd2-4bd5-a6fe-59ee3debf6e9",
   "metadata": {},
   "source": [
    "---\n",
    "> ### 4. DATA ANALYSIS & VISUALISATION"
   ]
  },
  {
   "cell_type": "markdown",
   "id": "12b6c2ee-9256-4eae-9f67-9c287a30eae2",
   "metadata": {},
   "source": [
    "**4.0 ANALYSIS/VIZ** - copy the code from `3.7` and chain a `plot()` function onto this, specifying kind as a `\"bar\"`, and for the bar to be stacked\n",
    "```\n",
    "df[pass_filter].groupby([\"player1\", \"event\"]).size().unstack().sort_values(\"completed_pass\", ascending=False).plot(kind=\"bar\", stacked=True)\n",
    "```"
   ]
  },
  {
   "cell_type": "code",
   "execution_count": null,
   "id": "fbf6120f-df0b-4f52-954a-187b40f55be3",
   "metadata": {},
   "outputs": [],
   "source": []
  },
  {
   "cell_type": "code",
   "execution_count": null,
   "id": "130ec787-8749-4b10-8bde-84dd0ec273d6",
   "metadata": {},
   "outputs": [],
   "source": []
  },
  {
   "cell_type": "markdown",
   "id": "325583c7-92e8-4a5c-9389-fea19a65c276",
   "metadata": {},
   "source": [
    "**4.1 ANALYSIS** - copy the code from `4.0` but cut the `sort_values()` and `plot()` functions. After the `unstack()` function chain an `assign()` function specified to create a new column called `rate` which that calculates each player's completed pass rate\n",
    "```\n",
    "df[ pass_filter ].groupby( [\"player1\", \"event\"]).size().unstack().assign(rate = lambda x: x[\"completed_pass\"] / (x[\"completed_pass\"] + x[\"incomplete_pass\"]) * 100).sort_values(\"rate\", ascending=False)\n",
    "```"
   ]
  },
  {
   "cell_type": "code",
   "execution_count": null,
   "id": "e70cf84e-809c-498c-9851-d98cb19ea62a",
   "metadata": {},
   "outputs": [],
   "source": [
    "http://127.0.0.1:8888/lab?token=5156adb5fccf9f1a2fa930f4b5f7ae53fe517333576b2ad6"
   ]
  },
  {
   "cell_type": "code",
   "execution_count": null,
   "id": "e5453fda-e5f1-4394-8ad3-2386c7b8be33",
   "metadata": {},
   "outputs": [],
   "source": []
  },
  {
   "cell_type": "markdown",
   "id": "8f7b99f1-8828-4d96-bd3a-383eb6f355df",
   "metadata": {},
   "source": [
    "---"
   ]
  },
  {
   "cell_type": "markdown",
   "id": "a74a10b0-0f8f-4459-b555-aa1d14ec1daf",
   "metadata": {},
   "source": [
    "_Sports Python Educational Project content, licensed under Attribution-NonCommercial-ShareAlike 4.0 International_"
   ]
  }
 ],
 "metadata": {
  "kernelspec": {
   "display_name": "Python 3 (ipykernel)",
   "language": "python",
   "name": "python3"
  },
  "language_info": {
   "codemirror_mode": {
    "name": "ipython",
    "version": 3
   },
   "file_extension": ".py",
   "mimetype": "text/x-python",
   "name": "python",
   "nbconvert_exporter": "python",
   "pygments_lexer": "ipython3",
   "version": "3.9.7"
  }
 },
 "nbformat": 4,
 "nbformat_minor": 5
}
