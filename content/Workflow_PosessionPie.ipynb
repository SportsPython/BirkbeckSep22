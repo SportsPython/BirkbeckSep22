{
 "cells": [
  {
   "cell_type": "code",
   "execution_count": 1,
   "id": "f8334146-a439-4b92-b2e0-da03bf84c683",
   "metadata": {},
   "outputs": [],
   "source": [
    "import pandas as pd"
   ]
  },
  {
   "cell_type": "code",
   "execution_count": 2,
   "id": "3d2828f3-f3e6-4ffb-b4cb-33f97dfaf6aa",
   "metadata": {},
   "outputs": [],
   "source": [
    "%config Completer.use_jedi = False\n",
    "pd.options.display.max_columns = False\n",
    "pd.options.display.max_rows = False"
   ]
  },
  {
   "cell_type": "code",
   "execution_count": 3,
   "id": "ebcb8880-cb3d-4c64-a81a-1b4f49535824",
   "metadata": {},
   "outputs": [],
   "source": [
    "raw_data = pd.read_csv(\"draft.csv\")"
   ]
  },
  {
   "cell_type": "code",
   "execution_count": 4,
   "id": "110079ae-4e38-4672-aac5-05e9ac88532c",
   "metadata": {},
   "outputs": [],
   "source": [
    "df = raw_data.copy()"
   ]
  },
  {
   "cell_type": "code",
   "execution_count": 6,
   "id": "dd765513-baac-4c49-85ba-1ddb39445837",
   "metadata": {},
   "outputs": [],
   "source": [
    "pass_filter = (df[\"event\"] == \"completed_pass\")"
   ]
  },
  {
   "cell_type": "code",
   "execution_count": null,
   "id": "48dab2f1-e84c-48d2-aa20-df91e072e81c",
   "metadata": {},
   "outputs": [],
   "source": [
    "df[ pass_filter ]"
   ]
  },
  {
   "cell_type": "code",
   "execution_count": 7,
   "id": "abea6839-2d74-4b1d-ad78-59a32159de5f",
   "metadata": {
    "collapsed": true,
    "jupyter": {
     "outputs_hidden": true
    },
    "tags": []
   },
   "outputs": [
    {
     "data": {
      "text/html": [
       "<div>\n",
       "<style scoped>\n",
       "    .dataframe tbody tr th:only-of-type {\n",
       "        vertical-align: middle;\n",
       "    }\n",
       "\n",
       "    .dataframe tbody tr th {\n",
       "        vertical-align: top;\n",
       "    }\n",
       "\n",
       "    .dataframe thead th {\n",
       "        text-align: right;\n",
       "    }\n",
       "</style>\n",
       "<table border=\"1\" class=\"dataframe\">\n",
       "  <thead>\n",
       "    <tr style=\"text-align: right;\">\n",
       "      <th></th>\n",
       "      <th>player1_team</th>\n",
       "      <th>event</th>\n",
       "    </tr>\n",
       "  </thead>\n",
       "  <tbody>\n",
       "    <tr>\n",
       "      <th>1</th>\n",
       "      <td>man_u</td>\n",
       "      <td>completed_pass</td>\n",
       "    </tr>\n",
       "    <tr>\n",
       "      <th>2</th>\n",
       "      <td>man_u</td>\n",
       "      <td>completed_pass</td>\n",
       "    </tr>\n",
       "    <tr>\n",
       "      <th>3</th>\n",
       "      <td>man_u</td>\n",
       "      <td>completed_pass</td>\n",
       "    </tr>\n",
       "    <tr>\n",
       "      <th>8</th>\n",
       "      <td>arsenal</td>\n",
       "      <td>completed_pass</td>\n",
       "    </tr>\n",
       "    <tr>\n",
       "      <th>17</th>\n",
       "      <td>arsenal</td>\n",
       "      <td>completed_pass</td>\n",
       "    </tr>\n",
       "    <tr>\n",
       "      <th>18</th>\n",
       "      <td>arsenal</td>\n",
       "      <td>completed_pass</td>\n",
       "    </tr>\n",
       "    <tr>\n",
       "      <th>20</th>\n",
       "      <td>arsenal</td>\n",
       "      <td>completed_pass</td>\n",
       "    </tr>\n",
       "    <tr>\n",
       "      <th>21</th>\n",
       "      <td>arsenal</td>\n",
       "      <td>completed_pass</td>\n",
       "    </tr>\n",
       "    <tr>\n",
       "      <th>23</th>\n",
       "      <td>arsenal</td>\n",
       "      <td>completed_pass</td>\n",
       "    </tr>\n",
       "    <tr>\n",
       "      <th>...</th>\n",
       "      <td>...</td>\n",
       "      <td>...</td>\n",
       "    </tr>\n",
       "    <tr>\n",
       "      <th>1842</th>\n",
       "      <td>man_u</td>\n",
       "      <td>completed_pass</td>\n",
       "    </tr>\n",
       "    <tr>\n",
       "      <th>1843</th>\n",
       "      <td>man_u</td>\n",
       "      <td>completed_pass</td>\n",
       "    </tr>\n",
       "    <tr>\n",
       "      <th>1844</th>\n",
       "      <td>man_u</td>\n",
       "      <td>completed_pass</td>\n",
       "    </tr>\n",
       "    <tr>\n",
       "      <th>1845</th>\n",
       "      <td>man_u</td>\n",
       "      <td>completed_pass</td>\n",
       "    </tr>\n",
       "    <tr>\n",
       "      <th>1846</th>\n",
       "      <td>man_u</td>\n",
       "      <td>completed_pass</td>\n",
       "    </tr>\n",
       "    <tr>\n",
       "      <th>1848</th>\n",
       "      <td>man_u</td>\n",
       "      <td>completed_pass</td>\n",
       "    </tr>\n",
       "    <tr>\n",
       "      <th>1849</th>\n",
       "      <td>man_u</td>\n",
       "      <td>completed_pass</td>\n",
       "    </tr>\n",
       "    <tr>\n",
       "      <th>1850</th>\n",
       "      <td>man_u</td>\n",
       "      <td>completed_pass</td>\n",
       "    </tr>\n",
       "    <tr>\n",
       "      <th>1852</th>\n",
       "      <td>man_u</td>\n",
       "      <td>completed_pass</td>\n",
       "    </tr>\n",
       "  </tbody>\n",
       "</table>\n",
       "<p>791 rows × 2 columns</p>\n",
       "</div>"
      ],
      "text/plain": [
       "     player1_team           event\n",
       "1           man_u  completed_pass\n",
       "2           man_u  completed_pass\n",
       "3           man_u  completed_pass\n",
       "8         arsenal  completed_pass\n",
       "17        arsenal  completed_pass\n",
       "18        arsenal  completed_pass\n",
       "20        arsenal  completed_pass\n",
       "21        arsenal  completed_pass\n",
       "23        arsenal  completed_pass\n",
       "...           ...             ...\n",
       "1842        man_u  completed_pass\n",
       "1843        man_u  completed_pass\n",
       "1844        man_u  completed_pass\n",
       "1845        man_u  completed_pass\n",
       "1846        man_u  completed_pass\n",
       "1848        man_u  completed_pass\n",
       "1849        man_u  completed_pass\n",
       "1850        man_u  completed_pass\n",
       "1852        man_u  completed_pass\n",
       "\n",
       "[791 rows x 2 columns]"
      ]
     },
     "execution_count": 7,
     "metadata": {},
     "output_type": "execute_result"
    }
   ],
   "source": [
    "df[pass_filter][[\"player1_team\", \"event\"]]"
   ]
  },
  {
   "cell_type": "code",
   "execution_count": 9,
   "id": "91773791-ee49-42c6-b055-3dd6c1cf334e",
   "metadata": {},
   "outputs": [
    {
     "data": {
      "text/plain": [
       "player1_team\n",
       "arsenal    450\n",
       "man_u      341\n",
       "dtype: int64"
      ]
     },
     "execution_count": 9,
     "metadata": {},
     "output_type": "execute_result"
    }
   ],
   "source": [
    "df[pass_filter][[\"player1_team\", \"event\"]].groupby(\"player1_team\").size()"
   ]
  },
  {
   "cell_type": "code",
   "execution_count": 10,
   "id": "1baba6b4-6e58-4029-b263-e22f65cfa60b",
   "metadata": {},
   "outputs": [
    {
     "data": {
      "text/plain": [
       "<matplotlib.axes._subplots.AxesSubplot at 0x10c8b1520>"
      ]
     },
     "execution_count": 10,
     "metadata": {},
     "output_type": "execute_result"
    },
    {
     "data": {
      "image/png": "[encoded data removed]",
      "text/plain": [
       "<Figure size 432x288 with 1 Axes>"
      ]
     },
     "metadata": {},
     "output_type": "display_data"
    }
   ],
   "source": [
    "df[pass_filter][[\"player1_team\", \"event\"]].groupby(\"player1_team\").size().plot(kind=\"pie\", autopct=\"%.0f%%\")"
   ]
  },
  {
   "cell_type": "code",
   "execution_count": 11,
   "id": "cf39da08-dfcf-4bf3-a713-e855d79712fb",
   "metadata": {},
   "outputs": [
    {
     "data": {
      "text/plain": [
       "<matplotlib.axes._subplots.AxesSubplot at 0x10cb85d30>"
      ]
     },
     "execution_count": 11,
     "metadata": {},
     "output_type": "execute_result"
    },
    {
     "data": {
      "image/png": "[encoded data removed]",
      "text/plain": [
       "<Figure size 432x288 with 1 Axes>"
      ]
     },
     "metadata": {},
     "output_type": "display_data"
    }
   ],
   "source": [
    "df[pass_filter][[\"player1_team\", \"event\"]].groupby(\"player1_team\").size().plot(\n",
    "    kind=\"pie\", autopct=\"%.0f%%\", colors=[\"red\", \"blue\"])"
   ]
  },
  {
   "cell_type": "code",
   "execution_count": null,
   "id": "348298b6-3cfb-4ad0-a36a-d9129292c85d",
   "metadata": {},
   "outputs": [],
   "source": []
  }
 ],
 "metadata": {
  "kernelspec": {
   "display_name": "Python 3 (ipykernel)",
   "language": "python",
   "name": "python3"
  },
  "language_info": {
   "codemirror_mode": {
    "name": "ipython",
    "version": 3
   },
   "file_extension": ".py",
   "mimetype": "text/x-python",
   "name": "python",
   "nbconvert_exporter": "python",
   "pygments_lexer": "ipython3",
   "version": "3.9.7"
  }
 },
 "nbformat": 4,
 "nbformat_minor": 5
}
