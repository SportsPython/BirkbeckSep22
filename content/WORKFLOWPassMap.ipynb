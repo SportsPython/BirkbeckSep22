{
 "cells": [
  {
   "cell_type": "markdown",
   "id": "637a13ce-a27c-4714-ba5c-a4717f9c6df8",
   "metadata": {},
   "source": [
    "## Workflow - Pass Map (Team)"
   ]
  },
  {
   "cell_type": "markdown",
   "id": "77167bee-a56c-4a5b-a4d5-19332d65d564",
   "metadata": {},
   "source": [
    "---\n",
    "> ### 1. SET UP DEVELOPMENT ENVIRONMENT"
   ]
  },
  {
   "cell_type": "markdown",
   "id": "8fe19909-3553-4aeb-a75c-8f2f4885173c",
   "metadata": {},
   "source": [
    "**1.0 Import required Python software into current development environment (i.e. this notebook)**\n",
    "```\n",
    "import pandas as pd\n",
    "import matplotlib.pyplot as plt\n",
    "from PIL import Image\n",
    "```"
   ]
  },
  {
   "cell_type": "code",
   "execution_count": null,
   "id": "0eb3f8b7-1ab8-4bce-9502-0c02343312b4",
   "metadata": {},
   "outputs": [],
   "source": []
  },
  {
   "cell_type": "code",
   "execution_count": null,
   "id": "41c23b42-8657-428c-aa20-3e0f7cd34d13",
   "metadata": {},
   "outputs": [],
   "source": []
  },
  {
   "cell_type": "markdown",
   "id": "0cdd5edb-4cfa-40bb-8916-2abb5efb3a71",
   "metadata": {},
   "source": [
    "**1.1 Configure notebook for code autocompletion + displaying plots + displaying max columns and rows of panda data objects**\n",
    "```\n",
    "%config Completer.use_jedi = False\n",
    "%matplotlib inline\n",
    "pd.options.display.max_columns = None\n",
    "pd.options.display.max_rows = None\n",
    "```"
   ]
  },
  {
   "cell_type": "code",
   "execution_count": null,
   "id": "b4e0beac-c93b-4236-b448-5f7afc536a4e",
   "metadata": {},
   "outputs": [],
   "source": []
  },
  {
   "cell_type": "code",
   "execution_count": null,
   "id": "9cb85198-f400-45a5-a287-6608aa27cd2d",
   "metadata": {},
   "outputs": [],
   "source": []
  },
  {
   "cell_type": "markdown",
   "id": "17bbda7c-a7be-46ee-950a-8948b0c05b00",
   "metadata": {},
   "source": [
    "---\n",
    "> ### 2. LOAD & PREP DATA"
   ]
  },
  {
   "cell_type": "markdown",
   "id": "a70f7c80-7bbc-4dbf-9629-43e228f48d91",
   "metadata": {},
   "source": [
    "**2.0 Data Load** - read in the `match_events.csv` file located in the `data` directory (folder)\n",
    "```\n",
    "raw_data = pd.read_csv(\"data/match_events.csv\")\n",
    "```"
   ]
  },
  {
   "cell_type": "code",
   "execution_count": null,
   "id": "df0d446b-4fc0-483e-b639-91e782b0a5b2",
   "metadata": {},
   "outputs": [],
   "source": []
  },
  {
   "cell_type": "code",
   "execution_count": null,
   "id": "030199b0-5631-4046-95e0-1382409fa33d",
   "metadata": {},
   "outputs": [],
   "source": []
  },
  {
   "cell_type": "markdown",
   "id": "b24a908e-3041-4c33-8912-63090c01c566",
   "metadata": {},
   "source": [
    "**2.1 Data Prep** - make a copy of raw data to work on called `df`\n",
    "\n",
    "```\n",
    "df = raw_data.copy()\n",
    "```"
   ]
  },
  {
   "cell_type": "code",
   "execution_count": null,
   "id": "cb901b83-51ab-4091-a394-e09f351bc471",
   "metadata": {},
   "outputs": [],
   "source": []
  },
  {
   "cell_type": "code",
   "execution_count": null,
   "id": "b0ff62f2-b517-4f8a-8e90-fb68d4786d84",
   "metadata": {},
   "outputs": [],
   "source": []
  },
  {
   "cell_type": "markdown",
   "id": "e21fda81-87ce-4d25-ac6e-eedc8d946792",
   "metadata": {},
   "source": [
    "**2.2 Data Prep** - use the `head()` function to check the first 5 rows of the `df` object, which is a `pandas` dataframe (df), basically a 2 dimensional data structure with rows & columns \n",
    "```\n",
    "df.head()\n",
    "```"
   ]
  },
  {
   "cell_type": "code",
   "execution_count": null,
   "id": "e6c31631-511a-4e40-8d1e-6682bcfa9667",
   "metadata": {},
   "outputs": [],
   "source": []
  },
  {
   "cell_type": "code",
   "execution_count": null,
   "id": "614aec33-c50c-43f1-99ac-462351edfb29",
   "metadata": {},
   "outputs": [],
   "source": []
  },
  {
   "cell_type": "markdown",
   "id": "20d4477e-1f8d-428f-afc9-c5ce54c3e574",
   "metadata": {},
   "source": [
    "**2.3 Data Prep** - check the dimensions of the `df` (<no. of rows>, <no. of columns>). Should be (1854, 18).\n",
    "```\n",
    "df.shape\n",
    "```"
   ]
  },
  {
   "cell_type": "code",
   "execution_count": null,
   "id": "ea107aea-6294-43db-8da0-2e00bb2f4cc1",
   "metadata": {},
   "outputs": [],
   "source": []
  },
  {
   "cell_type": "code",
   "execution_count": null,
   "id": "d02b472b-3b23-4822-a617-2a7119965dc5",
   "metadata": {},
   "outputs": [],
   "source": []
  },
  {
   "cell_type": "markdown",
   "id": "5b7c78a3-27a0-4db3-b030-1b6ef0013e44",
   "metadata": {},
   "source": [
    "**2.4 Data Load** - load the `emirates_pitch.png` graphic located in the `data` directory (folder) and store in a variable called `pitch`\n",
    "```\n",
    "pitch = Image.open(\"data/emirates_pitch.png\")\n",
    "```"
   ]
  },
  {
   "cell_type": "code",
   "execution_count": null,
   "id": "bfe164ff-64ef-4d1c-81e6-f530cd044c08",
   "metadata": {},
   "outputs": [],
   "source": []
  },
  {
   "cell_type": "code",
   "execution_count": null,
   "id": "5d184750-69cc-4345-afa4-30b6e740c171",
   "metadata": {},
   "outputs": [],
   "source": []
  },
  {
   "cell_type": "markdown",
   "id": "73b50f02-6f19-4854-9e72-d3c4d58402b7",
   "metadata": {},
   "source": [
    "**2.5 Data Prep** - check the `pitch` object using `imshow()` function available from the `matplotlib` plotting library\n",
    "```\n",
    "plt.imshow(pitch)\n",
    "```"
   ]
  },
  {
   "cell_type": "code",
   "execution_count": null,
   "id": "e43b9a36-3059-4143-a989-9499307efa9d",
   "metadata": {},
   "outputs": [],
   "source": []
  },
  {
   "cell_type": "code",
   "execution_count": null,
   "id": "57d5c78f-1d6c-4d4e-b8fb-69e2e88b79d4",
   "metadata": {},
   "outputs": [],
   "source": []
  },
  {
   "cell_type": "markdown",
   "id": "bcb92392-4fe7-4386-9df1-cfec4457f5f4",
   "metadata": {},
   "source": [
    "---\n",
    "> ### 3. DATA ANALYSIS & VISUALISATION"
   ]
  },
  {
   "cell_type": "markdown",
   "id": "4b988a93-2ceb-45b1-9f77-9faaf47aae03",
   "metadata": {},
   "source": [
    "**3.0 VIZ PREP** - create a new variable (object) called `pass_filter` that can be used to filter the `df` for just the `\"completed_pass\"` events\n",
    "```\n",
    "pass_filter = (df[\"event\"] == \"completed_pass\")\n",
    "```"
   ]
  },
  {
   "cell_type": "code",
   "execution_count": null,
   "id": "594bd0bb-9e1a-41bd-b0d0-37c11d1a64ca",
   "metadata": {},
   "outputs": [],
   "source": []
  },
  {
   "cell_type": "code",
   "execution_count": null,
   "id": "01ad06f6-da42-49b7-b53e-63c5f3b808f3",
   "metadata": {},
   "outputs": [],
   "source": []
  },
  {
   "cell_type": "markdown",
   "id": "02d65419-55c3-4621-9f78-30ff65b5edb3",
   "metadata": {},
   "source": [
    "**3.1 VIZ PREP** - create a dataframe called `pass_df` that is a copy of the `df` filtered for just the `\"completed_pass\"` events using the `pass_filter`\n",
    "```\n",
    "pass_df = df[pass_filter].copy()\n",
    "```"
   ]
  },
  {
   "cell_type": "code",
   "execution_count": null,
   "id": "ac06f89e-34e1-45e6-a0f8-6f3b564b53ae",
   "metadata": {},
   "outputs": [],
   "source": []
  },
  {
   "cell_type": "code",
   "execution_count": null,
   "id": "0628cae1-61c5-4ec8-87b4-51d29c377bd7",
   "metadata": {},
   "outputs": [],
   "source": []
  },
  {
   "cell_type": "markdown",
   "id": "7ad09c18-d2c9-4545-bf8b-824ff32741aa",
   "metadata": {},
   "source": [
    "**3.2 VIZ PREP** - check the dimensions of the new `pass_df` (<no. of rows>, <no. of columns>). Should be (793, 18).\n",
    "```\n",
    "pass_df.shape\n",
    "```"
   ]
  },
  {
   "cell_type": "code",
   "execution_count": null,
   "id": "2b5569ac-df60-4f24-8a0b-0cb5498eb87d",
   "metadata": {},
   "outputs": [],
   "source": []
  },
  {
   "cell_type": "code",
   "execution_count": null,
   "id": "8f0e93cc-6096-4e3e-9012-042f0780f07c",
   "metadata": {},
   "outputs": [],
   "source": []
  },
  {
   "cell_type": "markdown",
   "id": "19ddcd76-591a-4269-b675-ebb3bafcee49",
   "metadata": {},
   "source": [
    "**3.3 VIZ PREP** - check what columns are in the `pass_df` in preparation for dropping unncessary ones\n",
    "```\n",
    "pass_df.columns\n",
    "```"
   ]
  },
  {
   "cell_type": "code",
   "execution_count": null,
   "id": "21b18894-45b5-4b45-8419-0770dbb74787",
   "metadata": {},
   "outputs": [],
   "source": []
  },
  {
   "cell_type": "code",
   "execution_count": null,
   "id": "2ab39f5e-bdd0-4564-af03-b9bba4ddecd5",
   "metadata": {},
   "outputs": [],
   "source": []
  },
  {
   "cell_type": "markdown",
   "id": "3d3cfc7c-29ad-4424-a00e-3d26485fc679",
   "metadata": {},
   "source": [
    "**3.4 VIZ PREP** - use the `drop()` function to remove a selection of columns based on their index position in the dataframe - specifying `inplace=True` is critical for making the drop stick rather than just being a temporary view\n",
    "```\n",
    "pass_df.drop( pass_df.columns[[0,1,2,3,4,5,7,8,10,11,16,17]], axis=1, inplace=True) \n",
    "```"
   ]
  },
  {
   "cell_type": "code",
   "execution_count": null,
   "id": "447e77b7-d028-4a4f-b121-708032958d29",
   "metadata": {},
   "outputs": [],
   "source": []
  },
  {
   "cell_type": "code",
   "execution_count": null,
   "id": "e415f9a7-bd59-4e23-bf32-7eb58457e59e",
   "metadata": {},
   "outputs": [],
   "source": []
  },
  {
   "cell_type": "markdown",
   "id": "19abd310-5626-44c1-8e18-607fa8d97911",
   "metadata": {},
   "source": [
    "**3.5 VIZ PREP** - check the updated `pass_df`\n",
    "```\n",
    "pass_df.head()\n",
    "```"
   ]
  },
  {
   "cell_type": "code",
   "execution_count": null,
   "id": "63fdc957-ba85-455f-86a6-8abed7a74c8d",
   "metadata": {
    "tags": []
   },
   "outputs": [],
   "source": []
  },
  {
   "cell_type": "code",
   "execution_count": null,
   "id": "aa68855c-888a-4cd8-9d59-55f8792c8f36",
   "metadata": {},
   "outputs": [],
   "source": []
  },
  {
   "cell_type": "markdown",
   "id": "534b2fc7-bb4d-4d6a-9d5a-2ca276d1bc1f",
   "metadata": {},
   "source": [
    "**3.6 VIZ PREP** - use the `matplotlib` plotting library to set-up a basic plot of an arrow on our pitch graphic using the `arrow()` function and some made-up measurements\n",
    "```\n",
    "fig, ax = plt.subplots()\n",
    "ax.imshow(pitch, extent=[0, 105, 0, 68])\n",
    "plt.arrow(x=52.5, y=34, dx=20, dy=10, width=0.5)\n",
    "```"
   ]
  },
  {
   "cell_type": "code",
   "execution_count": null,
   "id": "4dde395d-65fd-4c19-8afa-2e7931f33ace",
   "metadata": {},
   "outputs": [],
   "source": []
  },
  {
   "cell_type": "code",
   "execution_count": null,
   "id": "0096521c-4f60-4b6f-9897-3484e7a18c64",
   "metadata": {},
   "outputs": [],
   "source": []
  },
  {
   "cell_type": "markdown",
   "id": "60d5c5a6-ff48-4781-92d4-569414c8532d",
   "metadata": {},
   "source": [
    "**3.7 VIZ PREP** - create 2x new columns in the `pass_df` object called `dx` and `dy` that are the calculated as the `end_x` column minus the `start_x` column, and the `end_y` column minus the `start_y` solumn respectively\n",
    "```\n",
    "pass_df[\"dx\"] = pass_df[\"end_x\"] - pass_df[\"start_x\"]\n",
    "pass_df[\"dy\"] = pass_df[\"end_y\"] - pass_df[\"start_y\"]\n",
    "```"
   ]
  },
  {
   "cell_type": "code",
   "execution_count": null,
   "id": "8037702b-ff50-4888-b672-45a66792574a",
   "metadata": {},
   "outputs": [],
   "source": []
  },
  {
   "cell_type": "code",
   "execution_count": null,
   "id": "a8a19681-c716-4cc6-b7df-ff4579f7710f",
   "metadata": {},
   "outputs": [],
   "source": []
  },
  {
   "cell_type": "markdown",
   "id": "a71c2a71-842d-4a0c-aec4-c9478615c00b",
   "metadata": {},
   "source": [
    "**3.8 VIZ PREP** - check the `pass_df` again for these new columns\n",
    "```\n",
    "pass_df.head()\n",
    "```"
   ]
  },
  {
   "cell_type": "code",
   "execution_count": null,
   "id": "1f7d5865-9a6c-4aee-962a-7381f2b4e72d",
   "metadata": {
    "tags": []
   },
   "outputs": [],
   "source": []
  },
  {
   "cell_type": "code",
   "execution_count": null,
   "id": "2770c879-6531-4bfa-bb2e-cd06bf038a11",
   "metadata": {},
   "outputs": [],
   "source": []
  },
  {
   "cell_type": "markdown",
   "id": "3b4d9b5d-f62a-474a-b3e7-920561d9a70e",
   "metadata": {},
   "source": [
    "**3.9 VIZ PREP** - create a cut of the `pass_df` that contains only Man U's passes by filtering the dataframe for the condition that `player1_team` is equal to `\"man_u\"`. Assign this to a variable called `MU_df`\n",
    "```\n",
    "MU_df = pass_df[ pass_df[\"player1_team\"] == \"man_u\"]\n",
    "```"
   ]
  },
  {
   "cell_type": "code",
   "execution_count": null,
   "id": "f6d55481-585e-4850-bde5-b0c56bc378a0",
   "metadata": {},
   "outputs": [],
   "source": []
  },
  {
   "cell_type": "code",
   "execution_count": null,
   "id": "75792d47-2eb0-4f3b-afe9-dca42f8ca00d",
   "metadata": {},
   "outputs": [],
   "source": []
  },
  {
   "cell_type": "markdown",
   "id": "b450947d-09a2-4955-aa3d-e4b0a3dc7376",
   "metadata": {},
   "source": [
    "**3.10 VIZ PREP** - check `MU_df`\n",
    "```\n",
    "MU_df.head()\n",
    "```"
   ]
  },
  {
   "cell_type": "code",
   "execution_count": null,
   "id": "5b7b03f5-1729-4b19-a7ac-cafcd0c88242",
   "metadata": {},
   "outputs": [],
   "source": []
  },
  {
   "cell_type": "code",
   "execution_count": null,
   "id": "e9f0d1d8-2445-4f9d-b894-8bf7278fdd41",
   "metadata": {},
   "outputs": [],
   "source": []
  },
  {
   "cell_type": "markdown",
   "id": "64eb2f14-7456-4696-b0b0-c5b60a77f9e4",
   "metadata": {},
   "source": [
    "**3.11 VIZ PREP** - create a cut of the `pass_df` that contains only Arsenal's passes by filtering the dataframe for the condition that `player1_team` is equal to `\"arsenal\"`. Assign this to a variable called `ARS_df`\n",
    "```\n",
    "ARS_df = pass_df[pass_df[\"player1_team\"] == \"arsenal\"]\n",
    "```"
   ]
  },
  {
   "cell_type": "code",
   "execution_count": null,
   "id": "32f73296-2eb9-424e-ae6b-c000e9ea6f95",
   "metadata": {},
   "outputs": [],
   "source": []
  },
  {
   "cell_type": "code",
   "execution_count": null,
   "id": "425211b9-18a1-44ca-ae2c-01470028ebc2",
   "metadata": {},
   "outputs": [],
   "source": []
  },
  {
   "cell_type": "markdown",
   "id": "f7cc6fac-efcc-4f0c-8a9d-c509b030e537",
   "metadata": {},
   "source": [
    "**3.12 VIZ PREP** - check `ARS_df`\n",
    "```\n",
    "ARS_df.head()\n",
    "```"
   ]
  },
  {
   "cell_type": "code",
   "execution_count": null,
   "id": "d340b8d5-4d72-4411-a315-f1ee6f18f1b1",
   "metadata": {},
   "outputs": [],
   "source": []
  },
  {
   "cell_type": "code",
   "execution_count": null,
   "id": "0c42e320-dd5d-4eb1-95c0-d947536ecb68",
   "metadata": {},
   "outputs": [],
   "source": []
  },
  {
   "cell_type": "markdown",
   "id": "e1fd2944-3d6e-42bb-b5d5-f443cb561de5",
   "metadata": {},
   "source": [
    "**3.13 VIZ** - use the `matplotlib` plotting library again to make a Pass Map for Man U using the `MU_df` and the `iterrows()` function to automatically plot each Man U pass as an arrow\n",
    "```\n",
    "fig, ax = plt.subplots(figsize=(15, 10))\n",
    "plt.axis( [0, 105, 0, 68] )\n",
    "ax.imshow(pitch, extent=[0, 105, 0, 68])\n",
    "\n",
    "for index, row in MU_df.iterrows():\n",
    "    plt.arrow(x=row[\"start_x\"], y=row[\"start_y\"], dx=row[\"dx\"], dy=row[\"dy\"], color=\"dodgerblue\", head_width=1, overhang=1)\n",
    "\n",
    "```"
   ]
  },
  {
   "cell_type": "code",
   "execution_count": null,
   "id": "30900c63-7551-46d8-af01-3a6b5f5a6154",
   "metadata": {},
   "outputs": [],
   "source": []
  },
  {
   "cell_type": "code",
   "execution_count": null,
   "id": "68fbe724-c235-406a-b290-6eccf7250b1b",
   "metadata": {},
   "outputs": [],
   "source": []
  },
  {
   "cell_type": "markdown",
   "id": "922750cc-6129-4518-b09c-fa8f554ba8c9",
   "metadata": {},
   "source": [
    "**3.14 VIZ** - create a Pass Map showing both Man U and Arsenal's completed passes by copying the code in `3.13`, then adding a copy of the code that plots Man U's passes as arrows but calling this `iterrows()` function on `ARS_df`  \n",
    "\n",
    "```\n",
    "fig, ax = plt.subplots(figsize=(20, 10))\n",
    "plt.axis( [0, 105, 0, 68] )\n",
    "ax.imshow(pitch, extent=[0, 105, 0, 68])\n",
    "\n",
    "for index, row in MU_df.iterrows():\n",
    "    plt.arrow(x=row[\"start_x\"], y=row[\"start_y\"], dx=row[\"dx\"], dy=row[\"dy\"], color=\"dodgerblue\", head_width=1, overhang=1)\n",
    "    \n",
    "for index, row in ARS_df.iterrows():\n",
    "    plt.arrow(x=row[\"start_x\"], y=row[\"start_y\"], dx=row[\"dx\"], dy=row[\"dy\"], color=\"peru\", head_width=1, overhang=1)\n",
    "\n",
    "```\n",
    "Extra options:        \n",
    "-head_length = 1, linewidth=2    \n",
    "-plt.savefig(\"team_passes.png\")"
   ]
  },
  {
   "cell_type": "code",
   "execution_count": null,
   "id": "11882b5f-a28c-427e-8cd0-0c1484b15d2a",
   "metadata": {},
   "outputs": [],
   "source": []
  },
  {
   "cell_type": "code",
   "execution_count": null,
   "id": "6e41e043-59e3-4358-929a-2ca2bb6e7d70",
   "metadata": {},
   "outputs": [],
   "source": []
  },
  {
   "cell_type": "markdown",
   "id": "5404ea8f-21f3-4854-a522-120723df8c27",
   "metadata": {},
   "source": [
    "---"
   ]
  },
  {
   "cell_type": "markdown",
   "id": "5a679ea5-9619-44e3-973a-a7de25669f23",
   "metadata": {},
   "source": [
    "_Sports Python Educational Project content, licensed under Attribution-NonCommercial-ShareAlike 4.0 International_"
   ]
  }
 ],
 "metadata": {
  "kernelspec": {
   "display_name": "Python 3 (ipykernel)",
   "language": "python",
   "name": "python3"
  },
  "language_info": {
   "codemirror_mode": {
    "name": "ipython",
    "version": 3
   },
   "file_extension": ".py",
   "mimetype": "text/x-python",
   "name": "python",
   "nbconvert_exporter": "python",
   "pygments_lexer": "ipython3",
   "version": "3.9.7"
  }
 },
 "nbformat": 4,
 "nbformat_minor": 5
}
