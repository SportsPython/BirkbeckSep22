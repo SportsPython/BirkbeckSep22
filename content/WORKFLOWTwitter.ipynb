{
 "cells": [
  {
   "cell_type": "markdown",
   "id": "b13dde24-5a19-4ab7-a190-0549ddae844b",
   "metadata": {},
   "source": [
    "## Workflow - Social Listening on Twitter | Marketing Insights (Athlete, Team, Brand)"
   ]
  },
  {
   "cell_type": "markdown",
   "id": "5291966d-cfe1-4e02-adc4-055db9e0c284",
   "metadata": {},
   "source": [
    "---\n",
    "> ### 1. SET UP DEVELOPMENT ENVIRONMENT"
   ]
  },
  {
   "cell_type": "markdown",
   "id": "76de3f60-fd49-450c-9d6a-d40a71ac7e46",
   "metadata": {},
   "source": [
    "**1.0 Import required Python software into current development environment (i.e. this notebook)**\n",
    "```\n",
    "import pandas as pd\n",
    "```"
   ]
  },
  {
   "cell_type": "code",
   "execution_count": null,
   "id": "d84ece64-0299-4b22-9848-eaf9161d95f7",
   "metadata": {},
   "outputs": [],
   "source": []
  },
  {
   "cell_type": "code",
   "execution_count": null,
   "id": "26cbe0f8-986f-4d24-ac3a-a71755b70749",
   "metadata": {},
   "outputs": [],
   "source": []
  },
  {
   "cell_type": "markdown",
   "id": "3980f8fa-40ea-497d-b13d-168c90683c2b",
   "metadata": {},
   "source": [
    "**1.1 Configure notebook for code autocompletion + displaying plots + displaying max columns, rows, and column width of panda data objects**\n",
    "```\n",
    "%config Completer.use_jedi = False\n",
    "%matplotlib inline\n",
    "pd.options.display.max_columns = None\n",
    "pd.options.display.max_rows = None\n",
    "pd.options.display.max_colwidth = None\n",
    "```"
   ]
  },
  {
   "cell_type": "code",
   "execution_count": null,
   "id": "fe81cb1e-90be-4ccd-9805-9ba95a720709",
   "metadata": {},
   "outputs": [],
   "source": []
  },
  {
   "cell_type": "code",
   "execution_count": null,
   "id": "72129998-86c0-471f-b2a8-9998d68a83e2",
   "metadata": {},
   "outputs": [],
   "source": []
  },
  {
   "cell_type": "markdown",
   "id": "2a7d91cd-5292-400e-8f1e-a39ea867f157",
   "metadata": {},
   "source": [
    "---\n",
    "> ### 2. LOAD & PREP DATA"
   ]
  },
  {
   "cell_type": "markdown",
   "id": "7c0950f4-d7c7-46fc-b943-d9cdd0c34a7a",
   "metadata": {},
   "source": [
    "**2.0 Data Load** - read in the `tweets.csv` file located in the `data` directory (folder), also specifying that the `date` column in the csv is to be treated as datetime type of data\n",
    "```\n",
    "raw_data = pd.read_csv(\"data/tweets.csv\", parse_dates=[\"date\"])\n",
    "```"
   ]
  },
  {
   "cell_type": "code",
   "execution_count": null,
   "id": "239871a1-7579-4df3-b103-1d2d8a93820b",
   "metadata": {},
   "outputs": [],
   "source": []
  },
  {
   "cell_type": "code",
   "execution_count": null,
   "id": "db66d771-b90a-4890-a5e4-b980b0352ca9",
   "metadata": {},
   "outputs": [],
   "source": []
  },
  {
   "cell_type": "markdown",
   "id": "54185769-16b9-4f26-9eff-e02f0783d4c6",
   "metadata": {},
   "source": [
    "**2.1 Data Prep** - make a copy of raw data to work on called `df`\n",
    "\n",
    "```\n",
    "df = raw_data.copy()\n",
    "```"
   ]
  },
  {
   "cell_type": "code",
   "execution_count": null,
   "id": "6aa72f59-da62-408c-9314-85f25807ab25",
   "metadata": {},
   "outputs": [],
   "source": []
  },
  {
   "cell_type": "code",
   "execution_count": null,
   "id": "c051cc33-7f10-45bc-b11a-b5b222a89a38",
   "metadata": {},
   "outputs": [],
   "source": []
  },
  {
   "cell_type": "markdown",
   "id": "e5d00498-1337-4d96-acf9-92269d54aba1",
   "metadata": {},
   "source": [
    "**2.2 Data Prep** - use the `head()` function to check the first 5 rows of the `df` object, which is a `pandas` dataframe (df), basically a 2 dimensional data structure with rows & columns \n",
    "```\n",
    "df.head()\n",
    "```"
   ]
  },
  {
   "cell_type": "code",
   "execution_count": null,
   "id": "e3cb5f66-1248-4bc4-bdf7-b4d912b35e13",
   "metadata": {
    "tags": []
   },
   "outputs": [],
   "source": []
  },
  {
   "cell_type": "code",
   "execution_count": null,
   "id": "b28faf3b-3aab-4cf3-a681-10efd771ced6",
   "metadata": {},
   "outputs": [],
   "source": []
  },
  {
   "cell_type": "markdown",
   "id": "183d08b2-fed5-49ca-88b0-38cf838d3d7d",
   "metadata": {},
   "source": [
    "**2.3 Data Prep** - check the dimensions of the `df` (<no. of rows>, <no. of columns>). Should be (5030, 22)\n",
    "```\n",
    "df.shape\n",
    "```"
   ]
  },
  {
   "cell_type": "code",
   "execution_count": null,
   "id": "b2550d4c-65d0-472f-8ac8-f2d915117947",
   "metadata": {},
   "outputs": [],
   "source": []
  },
  {
   "cell_type": "code",
   "execution_count": null,
   "id": "688bb586-ab62-46c7-adf5-d69aecb90ceb",
   "metadata": {},
   "outputs": [],
   "source": []
  },
  {
   "cell_type": "markdown",
   "id": "e6be9b8a-72be-4c4f-9b10-794529b8b221",
   "metadata": {},
   "source": [
    "---\n",
    "> ### 3. EXPLORATORY DATA ANALYSIS (EDA)"
   ]
  },
  {
   "cell_type": "markdown",
   "id": "1238b192-de60-423a-89ff-024b4c09f063",
   "metadata": {},
   "source": [
    "**3.0 EDA** - filter the `df` to return tweet record (row) in this dataset which got the most likes\n",
    "```\n",
    "df[df[\"likes\"] == df[\"likes\"].max()]\n",
    "```"
   ]
  },
  {
   "cell_type": "code",
   "execution_count": null,
   "id": "9d2794ec-4093-49fa-834f-9911f3a49b19",
   "metadata": {},
   "outputs": [],
   "source": []
  },
  {
   "cell_type": "code",
   "execution_count": null,
   "id": "869a4205-ea78-4fa1-ab15-8a44e6aca1de",
   "metadata": {},
   "outputs": [],
   "source": []
  },
  {
   "cell_type": "markdown",
   "id": "dcc4ea64-6231-4937-8516-2b63e0a6afc1",
   "metadata": {},
   "source": [
    "**3.1 EDA** - filter the `df` to return the rows where the tweet text contains a certain string object (`\"\"`), e.g. `\"nike\"`\n",
    "```\n",
    "df[df[\"text\"].str.contains(\"nike\")]\n",
    "```"
   ]
  },
  {
   "cell_type": "code",
   "execution_count": null,
   "id": "e4b0a0b6-2c36-4ca2-9026-47e0648c08cd",
   "metadata": {},
   "outputs": [],
   "source": []
  },
  {
   "cell_type": "code",
   "execution_count": null,
   "id": "932aa732-3008-418c-a86e-a51e8aad79f5",
   "metadata": {},
   "outputs": [],
   "source": []
  },
  {
   "cell_type": "markdown",
   "id": "ec248190-7904-4a49-a6f5-27a9d98089a8",
   "metadata": {},
   "source": [
    "---\n",
    "> ### 4. DATA ANALYSIS & VISUALISATION"
   ]
  },
  {
   "cell_type": "markdown",
   "id": "72fe715d-9cef-47aa-bcbf-932e866f7193",
   "metadata": {},
   "source": [
    "**4.0 ANALYSIS/VIZ PREP** - convert the `date` column into the `index` for the `df`, i.e. ID for each row, making the change permanent by specifying `inplace=True`\n",
    "```\n",
    "df.set_index(\"date\", inplace=True)\n",
    "```"
   ]
  },
  {
   "cell_type": "code",
   "execution_count": null,
   "id": "2e437c52-5691-4fe4-84e7-c975d26a2b00",
   "metadata": {},
   "outputs": [],
   "source": []
  },
  {
   "cell_type": "code",
   "execution_count": null,
   "id": "ccd83130-f3d6-44dc-83b9-8c9b23657700",
   "metadata": {},
   "outputs": [],
   "source": []
  },
  {
   "cell_type": "markdown",
   "id": "ac273063-bcef-4773-87a2-9bd1a5fcacb8",
   "metadata": {},
   "source": [
    "**4.1 ANALYSIS/VIZ** - select the Boolean (`True` or `False`) columns that indicate whether a tweet also references Barcelona, Man City, or England (alongside Keira Walsh), use the `resample()` function to aggregate the tweets for each of these 3 categories by a chosen period of time, then plot over time, i.e. as a time series\n",
    "```\n",
    "df[[\"barcelona\", \"man_city\", \"england\"]].resample(\"H\").sum().plot( figsize=(12,6))\n",
    "```"
   ]
  },
  {
   "cell_type": "code",
   "execution_count": null,
   "id": "518df592-9d87-4b4e-8bdc-607b57de3fff",
   "metadata": {
    "tags": []
   },
   "outputs": [],
   "source": []
  },
  {
   "cell_type": "code",
   "execution_count": null,
   "id": "1360f63c-d0b1-4915-89f6-d5b60f706a8b",
   "metadata": {},
   "outputs": [],
   "source": []
  },
  {
   "cell_type": "markdown",
   "id": "ef3bcfe1-b784-4d18-80bc-6a7ae177d166",
   "metadata": {},
   "source": [
    "**4.2 ANALYSIS/VIZ PREP** - add a new column called `count` to `df` in which every row value is 1\n",
    "```\n",
    "df = df.assign(count=1)\n",
    "```"
   ]
  },
  {
   "cell_type": "code",
   "execution_count": null,
   "id": "bb6f312f-5891-4be2-89c8-2f17e4c1a362",
   "metadata": {
    "tags": []
   },
   "outputs": [],
   "source": []
  },
  {
   "cell_type": "code",
   "execution_count": null,
   "id": "8d21a887-c61a-420f-b4e3-fe634c97de23",
   "metadata": {},
   "outputs": [],
   "source": []
  },
  {
   "cell_type": "markdown",
   "id": "72409cf7-58eb-4cb6-89ed-9941b39acf72",
   "metadata": {},
   "source": [
    "**4.3 ANALYSIS/VIZ PREP** - create a new df called `language` as a copy of the `lang` and `count` columns of the original df, and turning `date` back into a column again\n",
    "```\n",
    "language = df[[\"lang\", \"count\"]].reset_index().copy()\n",
    "```"
   ]
  },
  {
   "cell_type": "code",
   "execution_count": null,
   "id": "ccaaf734-2c44-4af6-bd37-f2318cd63c41",
   "metadata": {},
   "outputs": [],
   "source": []
  },
  {
   "cell_type": "code",
   "execution_count": null,
   "id": "81546649-1e9d-4ef9-be83-9e39a4c999f8",
   "metadata": {},
   "outputs": [],
   "source": []
  },
  {
   "cell_type": "markdown",
   "id": "2fa63542-5de0-42cd-bf90-9907c32d854c",
   "metadata": {},
   "source": [
    "**4.4 ANALYSIS/VIZ PREP** - check new `language` df\n",
    "```\n",
    "language.head()\n",
    "```"
   ]
  },
  {
   "cell_type": "code",
   "execution_count": null,
   "id": "de0d6f99-17f8-4dc0-81b3-b87ac2c7f7f7",
   "metadata": {
    "tags": []
   },
   "outputs": [],
   "source": []
  },
  {
   "cell_type": "code",
   "execution_count": null,
   "id": "9a5fff97-3443-4667-98c9-9095dca9a44c",
   "metadata": {},
   "outputs": [],
   "source": []
  },
  {
   "cell_type": "markdown",
   "id": "1a7dbb78-9072-422d-81b6-4cfc42a55e38",
   "metadata": {},
   "source": [
    "**4.5 ANALYSIS/VIZ** - make a frequency table using `value_counts()` and normalize the values to what proportion of tweets in the dataset were written in what language\n",
    "```\n",
    "language[\"lang\"].value_counts(normalize=True)\n",
    "```"
   ]
  },
  {
   "cell_type": "code",
   "execution_count": null,
   "id": "4298d54f-f96e-4eca-9375-86ee170866e2",
   "metadata": {
    "tags": []
   },
   "outputs": [],
   "source": []
  },
  {
   "cell_type": "code",
   "execution_count": null,
   "id": "de14ea59-6fff-47b5-8cac-de563598b140",
   "metadata": {},
   "outputs": [],
   "source": []
  },
  {
   "cell_type": "markdown",
   "id": "a7b0897a-512f-4a9a-9d2f-89130ca74674",
   "metadata": {},
   "source": [
    "**4.6 ANALYSIS/VIZ PREP** - using the frequency table insight, update the values in the `lang` column so that there are only 4x categories, English , Spanish, Catalan, and a catch-all called `\"other\"` \n",
    "```\n",
    "language[\"lang\"] = language[\"lang\"].apply(lambda x: x if x in [\"en\", \"es\", \"ca\"] else \"other\")\n",
    "```"
   ]
  },
  {
   "cell_type": "code",
   "execution_count": null,
   "id": "bc24d7b2-cad0-422e-9279-352a5fc3fba5",
   "metadata": {},
   "outputs": [],
   "source": []
  },
  {
   "cell_type": "code",
   "execution_count": null,
   "id": "275be759-cb0e-49ad-a1fd-d603b77e841d",
   "metadata": {},
   "outputs": [],
   "source": []
  },
  {
   "cell_type": "markdown",
   "id": "dde77751-3cab-40ff-abb7-34731b156847",
   "metadata": {},
   "source": [
    "**4.7 ANALYSIS/VIZ PREP** - check this re-categorisation by generating a frequency table on this updated `lang` column\n",
    "```\n",
    "language[\"lang\"].value_counts()\n",
    "```"
   ]
  },
  {
   "cell_type": "code",
   "execution_count": null,
   "id": "785c9709-eacc-4cfa-a0f3-b344a699677b",
   "metadata": {},
   "outputs": [],
   "source": []
  },
  {
   "cell_type": "code",
   "execution_count": null,
   "id": "afad7497-be6a-4295-984b-5058aa2d2cec",
   "metadata": {},
   "outputs": [],
   "source": []
  },
  {
   "cell_type": "markdown",
   "id": "61f60ecc-e198-4ee1-8f89-c4dca56562e5",
   "metadata": {},
   "source": [
    "**4.8 ANALYSIS/VIZ** - plot the `date` and `lang` columns by language and aggregated by a chosen time period against time, i.e as a time series, and as an area plot\n",
    "```\n",
    "language.groupby([\"date\", \"lang\"]).sum().unstack().resample(\"H\").sum().plot(kind=\"area\", figsize=(12,6))\n",
    "```"
   ]
  },
  {
   "cell_type": "code",
   "execution_count": null,
   "id": "1cd5e4b6-cf16-49d6-a7e4-f2d937d04b4f",
   "metadata": {},
   "outputs": [],
   "source": []
  },
  {
   "cell_type": "code",
   "execution_count": null,
   "id": "3b5a3d14-2a35-423c-b6da-c886a7ed8ab5",
   "metadata": {},
   "outputs": [],
   "source": []
  },
  {
   "cell_type": "markdown",
   "id": "3990ff44-2306-4fac-af67-c7425d647b41",
   "metadata": {},
   "source": [
    "---"
   ]
  },
  {
   "cell_type": "markdown",
   "id": "7e3b633b-f06d-4e54-8c95-5291d6db598e",
   "metadata": {},
   "source": [
    "_Sports Python Educational Project content, licensed under Attribution-NonCommercial-ShareAlike 4.0 International_"
   ]
  }
 ],
 "metadata": {
  "kernelspec": {
   "display_name": "Python 3 (ipykernel)",
   "language": "python",
   "name": "python3"
  },
  "language_info": {
   "codemirror_mode": {
    "name": "ipython",
    "version": 3
   },
   "file_extension": ".py",
   "mimetype": "text/x-python",
   "name": "python",
   "nbconvert_exporter": "python",
   "pygments_lexer": "ipython3",
   "version": "3.9.7"
  }
 },
 "nbformat": 4,
 "nbformat_minor": 5
}
