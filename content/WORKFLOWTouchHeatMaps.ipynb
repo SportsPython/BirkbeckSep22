{
 "cells": [
  {
   "cell_type": "markdown",
   "id": "d56c56b2-fb48-45b8-a5fa-c97210f2b344",
   "metadata": {},
   "source": [
    "## Workflow - Touch Maps & Heat Maps (Player)"
   ]
  },
  {
   "cell_type": "markdown",
   "id": "17a59052-2f27-4f95-aedb-71d4ee075b50",
   "metadata": {},
   "source": [
    "---\n",
    "> ### 1. SET UP DEVELOPMENT ENVIRONMENT"
   ]
  },
  {
   "cell_type": "markdown",
   "id": "48830f59-ad87-4aaa-9aff-a70325f629bd",
   "metadata": {},
   "source": [
    "**1.0 Import required Python software into current development environment (i.e. this notebook)**\n",
    "```\n",
    "import pandas as pd\n",
    "import matplotlib.pyplot as plt\n",
    "from PIL import Image\n",
    "```"
   ]
  },
  {
   "cell_type": "code",
   "execution_count": null,
   "id": "479f5794-6d8a-4a27-8bb8-bce8a4f0933a",
   "metadata": {},
   "outputs": [],
   "source": []
  },
  {
   "cell_type": "code",
   "execution_count": null,
   "id": "e7bd7d1c-801c-437f-9948-c642d6ad9797",
   "metadata": {},
   "outputs": [],
   "source": []
  },
  {
   "cell_type": "markdown",
   "id": "1444b1cf-1890-4606-b3df-5d74351fe1fa",
   "metadata": {},
   "source": [
    "**1.1 Configure notebook for code autocompletion + displaying plots + displaying max columns and rows of panda data objects**\n",
    "```\n",
    "%config Completer.use_jedi = False\n",
    "%matplotlib inline\n",
    "pd.options.display.max_columns = None\n",
    "pd.options.display.max_rows = None\n",
    "```"
   ]
  },
  {
   "cell_type": "code",
   "execution_count": null,
   "id": "bbcd1cfe-9242-4841-ab90-671967dd4812",
   "metadata": {},
   "outputs": [],
   "source": []
  },
  {
   "cell_type": "code",
   "execution_count": null,
   "id": "d958b0f9-8b77-44c4-a3c5-28224c2f8151",
   "metadata": {},
   "outputs": [],
   "source": []
  },
  {
   "cell_type": "markdown",
   "id": "c071c3bf-046d-4445-b0a4-7c87ea7e91a8",
   "metadata": {},
   "source": [
    "---\n",
    "> ### 2. LOAD & PREP DATA"
   ]
  },
  {
   "cell_type": "markdown",
   "id": "ac4449e1-4006-4450-9822-84d76f609779",
   "metadata": {},
   "source": [
    "**2.0 Data Load** - read in the `match_events.csv` file located in the `data` directory (folder)\n",
    "```\n",
    "raw_data = pd.read_csv(\"data/match_events.csv\")\n",
    "```"
   ]
  },
  {
   "cell_type": "code",
   "execution_count": null,
   "id": "1abb3112-826e-4b8f-8bc9-08cd8552b853",
   "metadata": {},
   "outputs": [],
   "source": []
  },
  {
   "cell_type": "code",
   "execution_count": null,
   "id": "b2a901c9-57a7-4774-b6de-01a3c8b78720",
   "metadata": {},
   "outputs": [],
   "source": []
  },
  {
   "cell_type": "markdown",
   "id": "7ce6d588-feaf-44f2-b8e1-151a51a18603",
   "metadata": {},
   "source": [
    "**2.1 Data Prep** - make a copy of raw data to work on called `df`\n",
    "\n",
    "```\n",
    "df = raw_data.copy()\n",
    "```"
   ]
  },
  {
   "cell_type": "code",
   "execution_count": null,
   "id": "680e3009-c906-4a8b-9b5e-8a67749c87d7",
   "metadata": {},
   "outputs": [],
   "source": []
  },
  {
   "cell_type": "code",
   "execution_count": null,
   "id": "08793698-c4ee-4395-bbf1-bdf0778b925d",
   "metadata": {},
   "outputs": [],
   "source": []
  },
  {
   "cell_type": "markdown",
   "id": "8a07f9c5-485d-4527-a254-8f3fb3667fa5",
   "metadata": {},
   "source": [
    "**2.2 Data Prep** - use the `head()` function to check the first 5 rows of the `df` object, which is a `pandas` dataframe (df), basically a 2 dimensional data structure with rows & columns \n",
    "```\n",
    "df.head()\n",
    "```"
   ]
  },
  {
   "cell_type": "code",
   "execution_count": null,
   "id": "11048dab-8f98-4ca5-af1c-238a984bfeba",
   "metadata": {},
   "outputs": [],
   "source": []
  },
  {
   "cell_type": "code",
   "execution_count": null,
   "id": "d2d5e399-6e83-4402-82ee-cacb59af4c45",
   "metadata": {},
   "outputs": [],
   "source": []
  },
  {
   "cell_type": "markdown",
   "id": "2b4bd6a9-55c4-4455-85d2-2a1aa654b28e",
   "metadata": {},
   "source": [
    "**2.3 Data Prep** - check the dimensions of the `df` (<no. of rows>, <no. of columns>). Should be (1854, 18).\n",
    "```\n",
    "df.shape\n",
    "```"
   ]
  },
  {
   "cell_type": "code",
   "execution_count": null,
   "id": "578bf139-a86f-4239-a3bb-edab013457dd",
   "metadata": {
    "tags": []
   },
   "outputs": [],
   "source": []
  },
  {
   "cell_type": "code",
   "execution_count": null,
   "id": "7aebd60c-71a8-476d-872b-1e61f7aba281",
   "metadata": {},
   "outputs": [],
   "source": []
  },
  {
   "cell_type": "markdown",
   "id": "6fa43fd7-6f98-41f0-ae79-451fd03426b9",
   "metadata": {},
   "source": [
    "**2.4 Data Load** - load the `emirates_pitch.png` graphic located in the `data` directory (folder) and store in a variable called `pitch`\n",
    "```\n",
    "pitch = Image.open(\"data/emirates_pitch.png\")\n",
    "```"
   ]
  },
  {
   "cell_type": "code",
   "execution_count": null,
   "id": "91452b2c-f9cb-4e85-8e45-507e1aea711e",
   "metadata": {},
   "outputs": [],
   "source": []
  },
  {
   "cell_type": "code",
   "execution_count": null,
   "id": "c8edcc71-0386-4005-80fb-bbd2e264edf4",
   "metadata": {},
   "outputs": [],
   "source": []
  },
  {
   "cell_type": "markdown",
   "id": "be6aeb71-1edf-4e22-87b8-39f6e48031a8",
   "metadata": {},
   "source": [
    "**2.5 Data Prep** - check the `pitch` object using `imshow()` function available from the `matplotlib` plotting library\n",
    "```\n",
    "plt.imshow(pitch)\n",
    "```"
   ]
  },
  {
   "cell_type": "code",
   "execution_count": null,
   "id": "37961c6f-91c5-4cdb-92d4-b4cc25407c32",
   "metadata": {},
   "outputs": [],
   "source": []
  },
  {
   "cell_type": "code",
   "execution_count": null,
   "id": "2fa65a6d-27a4-4f42-b4b6-171a42fd23c4",
   "metadata": {},
   "outputs": [],
   "source": []
  },
  {
   "cell_type": "markdown",
   "id": "40a06692-f0c8-4dac-9f8a-6bf03de8f702",
   "metadata": {},
   "source": [
    "---\n",
    "> ### 3. EXPLORATORY DATA ANALYSIS (EDA)"
   ]
  },
  {
   "cell_type": "markdown",
   "id": "bd0d1b42-45de-4408-8066-12f96d07fb8c",
   "metadata": {},
   "source": [
    "**3.0 EDA** - create a new variable called `player` and assign a chosen player from the match to it as a string (`\"\"`) e.g. `\"elneny\"`\n",
    "```\n",
    "player = \"elneny\"\n",
    "```"
   ]
  },
  {
   "cell_type": "code",
   "execution_count": null,
   "id": "d937f3b3-75ab-402b-9440-ee77d0a8a8d5",
   "metadata": {},
   "outputs": [],
   "source": []
  },
  {
   "cell_type": "code",
   "execution_count": null,
   "id": "ac431516-4a21-416e-871f-ea2c8d8a4008",
   "metadata": {},
   "outputs": [],
   "source": []
  },
  {
   "cell_type": "markdown",
   "id": "458fac60-402b-47d0-8aa2-3ac45920abe9",
   "metadata": {},
   "source": [
    "**3.1 EDA** - filter `df` using the `loc` method, specifying rows to be filtered based on both `player2` matching the `player` variable above and the `event` being a `\"completed_pass\"`, whilst also filtering for the 2x columns `end_x` and `end_y`. Assign a copy of this object to a new variable called `firsttouch_df`  \n",
    "```\n",
    "firsttouch_df = df.loc[ (df[\"player2\"] == player) & (df[\"event\"] == \"completed_pass\")  ,  [\"end_x\", \"end_y\"] ].copy()\n",
    "```"
   ]
  },
  {
   "cell_type": "code",
   "execution_count": null,
   "id": "d90f6998-b58d-453b-977a-7d84a2727637",
   "metadata": {},
   "outputs": [],
   "source": []
  },
  {
   "cell_type": "code",
   "execution_count": null,
   "id": "ca7fb178-c9ac-434a-b153-f0af3ccac306",
   "metadata": {},
   "outputs": [],
   "source": []
  },
  {
   "cell_type": "markdown",
   "id": "0fc58ac6-aa92-4486-8e2f-8cb2cd39d21a",
   "metadata": {},
   "source": [
    "**3.2 EDA** - check `firsttouch_df`\n",
    "```\n",
    "firsttouch_df.head()\n",
    "```"
   ]
  },
  {
   "cell_type": "code",
   "execution_count": null,
   "id": "21a19612-58c1-47b5-a09f-602a5561c050",
   "metadata": {},
   "outputs": [],
   "source": []
  },
  {
   "cell_type": "code",
   "execution_count": null,
   "id": "5f1dff0f-c1b7-421a-b08d-01cb2a1a5cef",
   "metadata": {},
   "outputs": [],
   "source": []
  },
  {
   "cell_type": "markdown",
   "id": "04e32417-95cd-4899-82d0-df966c50069a",
   "metadata": {},
   "source": [
    "**3.3 EDA** - also check `firsttouch_df` does not have any values which are NA, i.e. missing, as this missing data will mess with the plots we will be making\n",
    "```\n",
    "firsttouch_df.isna().values.any()\n",
    "```"
   ]
  },
  {
   "cell_type": "code",
   "execution_count": null,
   "id": "e2bb7d26-e2f7-4537-86a7-9e699f4e2447",
   "metadata": {},
   "outputs": [],
   "source": []
  },
  {
   "cell_type": "code",
   "execution_count": null,
   "id": "02c618a4-7e49-47a2-94b1-7a923a55ef43",
   "metadata": {},
   "outputs": [],
   "source": []
  },
  {
   "cell_type": "markdown",
   "id": "e724b4a2-2eae-4e32-abbf-1befbd757ef5",
   "metadata": {},
   "source": [
    "**3.4 EDA** - use the `matplotlib` plotting library to create the a Touch Map for the chosen player, by setting-up and plotting a scatter graph, i.e. markers representing the chosen player's touches on the pitch graphic, feeding in the x and y co-ordinates of `firsttouch_df` to the `plt.scatter()` function\n",
    "```\n",
    "fig, ax = plt.subplots(figsize=(20, 10))\n",
    "plt.axis( [ 0, 105, 0, 68])\n",
    "ax.imshow(pitch, extent=[0,105,0,68])\n",
    "\n",
    "plt.scatter(x = firsttouch_df[\"end_x\"], y = firsttouch_df[\"end_y\"], s=1000)\n",
    "```\n",
    "Extra options:    \n",
    "-plt.tight_layout()   \n",
    "-c=\"cornflowerblue\", edgecolors=\"gold\", linewidth=5, alpha=0.8  \n",
    "-plt.savefig(\"TouchMap.png\")"
   ]
  },
  {
   "cell_type": "code",
   "execution_count": null,
   "id": "afab99f1-a27c-4029-a37c-4b84e280baa5",
   "metadata": {},
   "outputs": [],
   "source": []
  },
  {
   "cell_type": "code",
   "execution_count": null,
   "id": "fe8e0023-9c83-425b-a800-1867aafc5061",
   "metadata": {},
   "outputs": [],
   "source": []
  },
  {
   "cell_type": "markdown",
   "id": "0cfbee36-4149-47aa-a8a2-0717fd077371",
   "metadata": {},
   "source": [
    "**3.5 EDA PREP** - run some extra steps to import `seaborn` visualisation library into current development environment (i.e. this notebook) - NOTE the `piplite` calls are not standard practice but are necessary workarounds due to certain cutting-edge tech being used for this workshop\n",
    "```\n",
    "import piplite\n",
    "await piplite.install(\"seaborn\")\n",
    "import seaborn as sns\n",
    "```"
   ]
  },
  {
   "cell_type": "code",
   "execution_count": null,
   "id": "be8b28a7-245e-493a-99e1-39a4e35a910b",
   "metadata": {},
   "outputs": [],
   "source": []
  },
  {
   "cell_type": "code",
   "execution_count": null,
   "id": "ac70e6d5-aa20-4ef2-9586-ea35f79ce207",
   "metadata": {},
   "outputs": [],
   "source": []
  },
  {
   "cell_type": "markdown",
   "id": "13735a90-38a2-442a-adbe-e81efd3d376d",
   "metadata": {},
   "source": [
    "**3.6 EDA** - use the `seaborn` visualisation library to create a Heat Map of the chosen player's touches on the pitch graphic by passing the the x and y co-ordinates of `firsttouch_df` to the `sns.kdeplot()` function\n",
    "```\n",
    "fig, ax = plt.subplots(figsize=(20, 10))\n",
    "plt.axis( [0, 105, 0, 68] )\n",
    "ax.imshow(pitch, extent=[0,105,0,68])\n",
    "\n",
    "sns.kdeplot(x = firsttouch_df[\"end_x\"], y = firsttouch_df[\"end_y\"], n_levels=20, cmap=\"rocket_r\", fill=True, alpha=0.8)\n",
    "\n",
    "```\n",
    "Extra options:    \n",
    "-plt.tight_layout()   \n",
    "-cmap options: \"rocket\", \"mako\", \"flare\", and \"crest\". Append \"_r\" to the string to reverse the order of the colours    \n",
    "-plt.savefig(\"HeatMap.png\")"
   ]
  },
  {
   "cell_type": "code",
   "execution_count": null,
   "id": "a0b28671-c24d-4eae-87b7-8f502572da04",
   "metadata": {},
   "outputs": [],
   "source": []
  },
  {
   "cell_type": "code",
   "execution_count": null,
   "id": "98bcffca-09b1-43c7-9374-2d61911d4e27",
   "metadata": {},
   "outputs": [],
   "source": []
  },
  {
   "cell_type": "markdown",
   "id": "3542c339-3079-4bbb-972b-63876f6a0618",
   "metadata": {},
   "source": [
    "---"
   ]
  },
  {
   "cell_type": "markdown",
   "id": "94523c57-21d3-4634-938a-8cd952a358ee",
   "metadata": {},
   "source": [
    "_Sports Python Educational Project content, licensed under Attribution-NonCommercial-ShareAlike 4.0 International_"
   ]
  }
 ],
 "metadata": {
  "kernelspec": {
   "display_name": "Python 3 (ipykernel)",
   "language": "python",
   "name": "python3"
  },
  "language_info": {
   "codemirror_mode": {
    "name": "ipython",
    "version": 3
   },
   "file_extension": ".py",
   "mimetype": "text/x-python",
   "name": "python",
   "nbconvert_exporter": "python",
   "pygments_lexer": "ipython3",
   "version": "3.9.7"
  }
 },
 "nbformat": 4,
 "nbformat_minor": 5
}
