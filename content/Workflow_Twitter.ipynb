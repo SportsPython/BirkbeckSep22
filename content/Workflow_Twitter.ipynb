{
 "cells": [
  {
   "cell_type": "markdown",
   "id": "b13dde24-5a19-4ab7-a190-0549ddae844b",
   "metadata": {},
   "source": [
    "## Workflow - Social Listening on Twitter | Marketing Insights (Athlete, Team, Brand)"
   ]
  },
  {
   "cell_type": "markdown",
   "id": "5291966d-cfe1-4e02-adc4-055db9e0c284",
   "metadata": {},
   "source": [
    "---\n",
    "> ### 1. SET UP DEVELOPMENT ENVIRONMENT"
   ]
  },
  {
   "cell_type": "markdown",
   "id": "76de3f60-fd49-450c-9d6a-d40a71ac7e46",
   "metadata": {},
   "source": [
    "**1.0 Import required Python software into current development environment (i.e. this notebook)**\n",
    "```\n",
    "import pandas as pd\n",
    "```"
   ]
  },
  {
   "cell_type": "code",
   "execution_count": 28,
   "id": "d84ece64-0299-4b22-9848-eaf9161d95f7",
   "metadata": {},
   "outputs": [],
   "source": [
    "import pandas as pd"
   ]
  },
  {
   "cell_type": "markdown",
   "id": "3980f8fa-40ea-497d-b13d-168c90683c2b",
   "metadata": {},
   "source": [
    "**1.1 Configure notebook for code autocompletion + displaying plots + displaying max columns, rows, and column width of panda data objects**\n",
    "```\n",
    "%config Completer.use_jedi = False\n",
    "%matplotlib inline\n",
    "pd.options.display.max_columns = None\n",
    "pd.options.display.max_rows = None\n",
    "pd.options.display.max_colwidth = None\n",
    "```"
   ]
  },
  {
   "cell_type": "code",
   "execution_count": 29,
   "id": "fe81cb1e-90be-4ccd-9805-9ba95a720709",
   "metadata": {},
   "outputs": [],
   "source": [
    "%config Completer.use_jedi = False\n",
    "%matplotlib inline\n",
    "pd.options.display.max_columns = None\n",
    "pd.options.display.max_rows = None\n",
    "pd.options.display.max_colwidth = None"
   ]
  },
  {
   "cell_type": "markdown",
   "id": "2a7d91cd-5292-400e-8f1e-a39ea867f157",
   "metadata": {},
   "source": [
    "---\n",
    "> ### 2. LOAD & PREP DATA"
   ]
  },
  {
   "cell_type": "markdown",
   "id": "7c0950f4-d7c7-46fc-b943-d9cdd0c34a7a",
   "metadata": {},
   "source": [
    "**2.0 Data Load** - read in the `tweets.csv` file located in the `data` directory (folder), also specifying that the csv `date` column is `datetime` data\n",
    "```\n",
    "raw_data = pd.read_csv(\"data/tweets.csv\", parse_dates=[\"date\"])\n",
    "```"
   ]
  },
  {
   "cell_type": "code",
   "execution_count": 30,
   "id": "239871a1-7579-4df3-b103-1d2d8a93820b",
   "metadata": {},
   "outputs": [],
   "source": [
    "raw_data = pd.read_csv(\"data/tweets.csv\", parse_dates=[\"date\"])"
   ]
  },
  {
   "cell_type": "markdown",
   "id": "54185769-16b9-4f26-9eff-e02f0783d4c6",
   "metadata": {},
   "source": [
    "**2.1 Data Prep** - make copy of raw data to edit.\n",
    "\n",
    "```\n",
    "df = raw_data.copy()\n",
    "```"
   ]
  },
  {
   "cell_type": "code",
   "execution_count": 31,
   "id": "6aa72f59-da62-408c-9314-85f25807ab25",
   "metadata": {},
   "outputs": [],
   "source": [
    "df = raw_data.copy()"
   ]
  },
  {
   "cell_type": "markdown",
   "id": "e5d00498-1337-4d96-acf9-92269d54aba1",
   "metadata": {},
   "source": [
    "**2.2 Data Prep** - check the top of the `df` object, which is a `pandas` dataframe (df), basically a 2 dimensional data structure with rows & columns \n",
    "```\n",
    "df.head()\n",
    "```"
   ]
  },
  {
   "cell_type": "code",
   "execution_count": 32,
   "id": "e3cb5f66-1248-4bc4-bdf7-b4d912b35e13",
   "metadata": {
    "tags": []
   },
   "outputs": [
    {
     "data": {
      "text/html": [
       "<div>\n",
       "<style scoped>\n",
       "    .dataframe tbody tr th:only-of-type {\n",
       "        vertical-align: middle;\n",
       "    }\n",
       "\n",
       "    .dataframe tbody tr th {\n",
       "        vertical-align: top;\n",
       "    }\n",
       "\n",
       "    .dataframe thead th {\n",
       "        text-align: right;\n",
       "    }\n",
       "</style>\n",
       "<table border=\"1\" class=\"dataframe\">\n",
       "  <thead>\n",
       "    <tr style=\"text-align: right;\">\n",
       "      <th></th>\n",
       "      <th>date</th>\n",
       "      <th>id</th>\n",
       "      <th>text</th>\n",
       "      <th>lang</th>\n",
       "      <th>source</th>\n",
       "      <th>likes</th>\n",
       "      <th>quotes</th>\n",
       "      <th>replies</th>\n",
       "      <th>retweets</th>\n",
       "      <th>author.username</th>\n",
       "      <th>author.name</th>\n",
       "      <th>author.description</th>\n",
       "      <th>author.location</th>\n",
       "      <th>followers</th>\n",
       "      <th>following</th>\n",
       "      <th>annotationsKWs</th>\n",
       "      <th>hashtagsKWs</th>\n",
       "      <th>mentionsKWs</th>\n",
       "      <th>barcelona</th>\n",
       "      <th>england</th>\n",
       "      <th>man_city</th>\n",
       "      <th>lucy_bronze</th>\n",
       "    </tr>\n",
       "  </thead>\n",
       "  <tbody>\n",
       "    <tr>\n",
       "      <th>0</th>\n",
       "      <td>2022-09-11 22:16:42+00:00</td>\n",
       "      <td>1.569090e+18</td>\n",
       "      <td>England Lionesses stars Keira Walsh and Lucy Bronze’s Barcelona debuts end in disaster after referee fails to turn up - 11 September 2022.\\nRead More: https://t.co/bGqNg8U1pM https://t.co/eFbFsk4BvG</td>\n",
       "      <td>en</td>\n",
       "      <td>theguru.pro</td>\n",
       "      <td>1</td>\n",
       "      <td>0</td>\n",
       "      <td>0</td>\n",
       "      <td>0</td>\n",
       "      <td>EyePeaTV</td>\n",
       "      <td>The Guru</td>\n",
       "      <td>Retro Gamer\\nCoder\\nKodi User\\nWeb Designer\\nHoster</td>\n",
       "      <td>England, United Kingdom</td>\n",
       "      <td>428</td>\n",
       "      <td>120</td>\n",
       "      <td>['england lionesses', 'keira walsh', 'lucy bronze', 'barcelona']</td>\n",
       "      <td>NaN</td>\n",
       "      <td>NaN</td>\n",
       "      <td>True</td>\n",
       "      <td>True</td>\n",
       "      <td>False</td>\n",
       "      <td>True</td>\n",
       "    </tr>\n",
       "    <tr>\n",
       "      <th>1</th>\n",
       "      <td>2022-09-11 22:05:49+00:00</td>\n",
       "      <td>1.569080e+18</td>\n",
       "      <td>@MariaTikas @sport @keira_walsh 😊😊😊</td>\n",
       "      <td>und</td>\n",
       "      <td>Twitter Web App</td>\n",
       "      <td>0</td>\n",
       "      <td>0</td>\n",
       "      <td>0</td>\n",
       "      <td>0</td>\n",
       "      <td>asobauer</td>\n",
       "      <td>Aso Bauer</td>\n",
       "      <td>C.T.U</td>\n",
       "      <td>Virginia, USA</td>\n",
       "      <td>344</td>\n",
       "      <td>540</td>\n",
       "      <td>NaN</td>\n",
       "      <td>NaN</td>\n",
       "      <td>['mariatikas', 'sport', 'keira_walsh']</td>\n",
       "      <td>False</td>\n",
       "      <td>False</td>\n",
       "      <td>False</td>\n",
       "      <td>False</td>\n",
       "    </tr>\n",
       "    <tr>\n",
       "      <th>2</th>\n",
       "      <td>2022-09-11 22:05:06+00:00</td>\n",
       "      <td>1.569080e+18</td>\n",
       "      <td>England Lionesses stars Keira Walsh and Lucy Bronze’s Barcelona debuts end in disaster after referee fails to turn up https://t.co/k8hKLCFSp6</td>\n",
       "      <td>en</td>\n",
       "      <td>Publer.io</td>\n",
       "      <td>1</td>\n",
       "      <td>0</td>\n",
       "      <td>0</td>\n",
       "      <td>0</td>\n",
       "      <td>FootballReportg</td>\n",
       "      <td>Football Reporting </td>\n",
       "      <td>Football Reporting Your daily #Football #News Site</td>\n",
       "      <td>NaN</td>\n",
       "      <td>106</td>\n",
       "      <td>77</td>\n",
       "      <td>['england lionesses', 'keira walsh', 'lucy bronze', 'barcelona']</td>\n",
       "      <td>NaN</td>\n",
       "      <td>NaN</td>\n",
       "      <td>True</td>\n",
       "      <td>True</td>\n",
       "      <td>False</td>\n",
       "      <td>True</td>\n",
       "    </tr>\n",
       "    <tr>\n",
       "      <th>3</th>\n",
       "      <td>2022-09-11 22:02:56+00:00</td>\n",
       "      <td>1.569080e+18</td>\n",
       "      <td>Lionesses star duo Lucy Bronze and Keira Walsh are made to wait to make their Barcelona debuts https://t.co/jdS8cACc7C</td>\n",
       "      <td>en</td>\n",
       "      <td>WordPress.com</td>\n",
       "      <td>1</td>\n",
       "      <td>0</td>\n",
       "      <td>0</td>\n",
       "      <td>0</td>\n",
       "      <td>Veika64150921</td>\n",
       "      <td>Veika</td>\n",
       "      <td>NaN</td>\n",
       "      <td>NaN</td>\n",
       "      <td>0</td>\n",
       "      <td>1</td>\n",
       "      <td>['lucy bronze', 'keira walsh', 'barcelona']</td>\n",
       "      <td>NaN</td>\n",
       "      <td>NaN</td>\n",
       "      <td>True</td>\n",
       "      <td>False</td>\n",
       "      <td>False</td>\n",
       "      <td>True</td>\n",
       "    </tr>\n",
       "    <tr>\n",
       "      <th>4</th>\n",
       "      <td>2022-09-11 21:59:40+00:00</td>\n",
       "      <td>1.569080e+18</td>\n",
       "      <td>Pensábamos que el yayo no iba a mover el culo para el mercado de fichajes y aquí estoy en una foto con Keira Walsh vestida de culé https://t.co/nLzENvZ1xe</td>\n",
       "      <td>es</td>\n",
       "      <td>Twitter for Android</td>\n",
       "      <td>4</td>\n",
       "      <td>0</td>\n",
       "      <td>0</td>\n",
       "      <td>0</td>\n",
       "      <td>Lurasidone_</td>\n",
       "      <td>Sero</td>\n",
       "      <td>how can i be homophobic? i'm fucking culé</td>\n",
       "      <td>(Ella)</td>\n",
       "      <td>761</td>\n",
       "      <td>744</td>\n",
       "      <td>['keira walsh']</td>\n",
       "      <td>NaN</td>\n",
       "      <td>NaN</td>\n",
       "      <td>False</td>\n",
       "      <td>False</td>\n",
       "      <td>False</td>\n",
       "      <td>False</td>\n",
       "    </tr>\n",
       "  </tbody>\n",
       "</table>\n",
       "</div>"
      ],
      "text/plain": [
       "                       date            id  \\\n",
       "0 2022-09-11 22:16:42+00:00  1.569090e+18   \n",
       "1 2022-09-11 22:05:49+00:00  1.569080e+18   \n",
       "2 2022-09-11 22:05:06+00:00  1.569080e+18   \n",
       "3 2022-09-11 22:02:56+00:00  1.569080e+18   \n",
       "4 2022-09-11 21:59:40+00:00  1.569080e+18   \n",
       "\n",
       "                                                                                                                                                                                                     text  \\\n",
       "0  England Lionesses stars Keira Walsh and Lucy Bronze’s Barcelona debuts end in disaster after referee fails to turn up - 11 September 2022.\\nRead More: https://t.co/bGqNg8U1pM https://t.co/eFbFsk4BvG   \n",
       "1                                                                                                                                                                     @MariaTikas @sport @keira_walsh 😊😊😊   \n",
       "2                                                           England Lionesses stars Keira Walsh and Lucy Bronze’s Barcelona debuts end in disaster after referee fails to turn up https://t.co/k8hKLCFSp6   \n",
       "3                                                                                  Lionesses star duo Lucy Bronze and Keira Walsh are made to wait to make their Barcelona debuts https://t.co/jdS8cACc7C   \n",
       "4                                              Pensábamos que el yayo no iba a mover el culo para el mercado de fichajes y aquí estoy en una foto con Keira Walsh vestida de culé https://t.co/nLzENvZ1xe   \n",
       "\n",
       "  lang               source  likes  quotes  replies  retweets  \\\n",
       "0   en          theguru.pro      1       0        0         0   \n",
       "1  und      Twitter Web App      0       0        0         0   \n",
       "2   en            Publer.io      1       0        0         0   \n",
       "3   en        WordPress.com      1       0        0         0   \n",
       "4   es  Twitter for Android      4       0        0         0   \n",
       "\n",
       "   author.username           author.name  \\\n",
       "0         EyePeaTV              The Guru   \n",
       "1         asobauer             Aso Bauer   \n",
       "2  FootballReportg  Football Reporting    \n",
       "3    Veika64150921                 Veika   \n",
       "4      Lurasidone_                  Sero   \n",
       "\n",
       "                                    author.description  \\\n",
       "0  Retro Gamer\\nCoder\\nKodi User\\nWeb Designer\\nHoster   \n",
       "1                                                C.T.U   \n",
       "2   Football Reporting Your daily #Football #News Site   \n",
       "3                                                  NaN   \n",
       "4            how can i be homophobic? i'm fucking culé   \n",
       "\n",
       "           author.location  followers  following  \\\n",
       "0  England, United Kingdom        428        120   \n",
       "1            Virginia, USA        344        540   \n",
       "2                      NaN        106         77   \n",
       "3                      NaN          0          1   \n",
       "4                   (Ella)        761        744   \n",
       "\n",
       "                                                     annotationsKWs  \\\n",
       "0  ['england lionesses', 'keira walsh', 'lucy bronze', 'barcelona']   \n",
       "1                                                               NaN   \n",
       "2  ['england lionesses', 'keira walsh', 'lucy bronze', 'barcelona']   \n",
       "3                       ['lucy bronze', 'keira walsh', 'barcelona']   \n",
       "4                                                   ['keira walsh']   \n",
       "\n",
       "  hashtagsKWs                             mentionsKWs  barcelona  england  \\\n",
       "0         NaN                                     NaN       True     True   \n",
       "1         NaN  ['mariatikas', 'sport', 'keira_walsh']      False    False   \n",
       "2         NaN                                     NaN       True     True   \n",
       "3         NaN                                     NaN       True    False   \n",
       "4         NaN                                     NaN      False    False   \n",
       "\n",
       "   man_city  lucy_bronze  \n",
       "0     False         True  \n",
       "1     False        False  \n",
       "2     False         True  \n",
       "3     False         True  \n",
       "4     False        False  "
      ]
     },
     "execution_count": 32,
     "metadata": {},
     "output_type": "execute_result"
    }
   ],
   "source": [
    "df.head()"
   ]
  },
  {
   "cell_type": "markdown",
   "id": "183d08b2-fed5-49ca-88b0-38cf838d3d7d",
   "metadata": {},
   "source": [
    "**2.3 Data Prep** - check the dimensions of the df (<no. of rows>, <no. of columns>). Should be (5030, 22)\n",
    "```\n",
    "df.shape\n",
    "```"
   ]
  },
  {
   "cell_type": "code",
   "execution_count": 33,
   "id": "b2550d4c-65d0-472f-8ac8-f2d915117947",
   "metadata": {},
   "outputs": [
    {
     "data": {
      "text/plain": [
       "(5030, 22)"
      ]
     },
     "execution_count": 33,
     "metadata": {},
     "output_type": "execute_result"
    }
   ],
   "source": [
    "df.shape"
   ]
  },
  {
   "cell_type": "markdown",
   "id": "e6be9b8a-72be-4c4f-9b10-794529b8b221",
   "metadata": {},
   "source": [
    "---\n",
    "> ### 3. EXPLORATORY DATA ANALYSIS (EDA)"
   ]
  },
  {
   "cell_type": "markdown",
   "id": "1238b192-de60-423a-89ff-024b4c09f063",
   "metadata": {},
   "source": [
    "**3.0 EDA** - filter the df to return the row of the tweet with the highest no. of likes in this dataset\n",
    "```\n",
    "df[df[\"likes\"] == df[\"likes\"].max()]\n",
    "```"
   ]
  },
  {
   "cell_type": "code",
   "execution_count": 34,
   "id": "9d2794ec-4093-49fa-834f-9911f3a49b19",
   "metadata": {},
   "outputs": [
    {
     "data": {
      "text/html": [
       "<div>\n",
       "<style scoped>\n",
       "    .dataframe tbody tr th:only-of-type {\n",
       "        vertical-align: middle;\n",
       "    }\n",
       "\n",
       "    .dataframe tbody tr th {\n",
       "        vertical-align: top;\n",
       "    }\n",
       "\n",
       "    .dataframe thead th {\n",
       "        text-align: right;\n",
       "    }\n",
       "</style>\n",
       "<table border=\"1\" class=\"dataframe\">\n",
       "  <thead>\n",
       "    <tr style=\"text-align: right;\">\n",
       "      <th></th>\n",
       "      <th>date</th>\n",
       "      <th>id</th>\n",
       "      <th>text</th>\n",
       "      <th>lang</th>\n",
       "      <th>source</th>\n",
       "      <th>likes</th>\n",
       "      <th>quotes</th>\n",
       "      <th>replies</th>\n",
       "      <th>retweets</th>\n",
       "      <th>author.username</th>\n",
       "      <th>author.name</th>\n",
       "      <th>author.description</th>\n",
       "      <th>author.location</th>\n",
       "      <th>followers</th>\n",
       "      <th>following</th>\n",
       "      <th>annotationsKWs</th>\n",
       "      <th>hashtagsKWs</th>\n",
       "      <th>mentionsKWs</th>\n",
       "      <th>barcelona</th>\n",
       "      <th>england</th>\n",
       "      <th>man_city</th>\n",
       "      <th>lucy_bronze</th>\n",
       "    </tr>\n",
       "  </thead>\n",
       "  <tbody>\n",
       "    <tr>\n",
       "      <th>2494</th>\n",
       "      <td>2022-09-07 15:22:15+00:00</td>\n",
       "      <td>1.567530e+18</td>\n",
       "      <td>Keira Walsh joins Barcelona Femeni for a world record fee of €400k 🤯 https://t.co/TK9nKceKWb</td>\n",
       "      <td>en</td>\n",
       "      <td>Twitter Web App</td>\n",
       "      <td>13429</td>\n",
       "      <td>151</td>\n",
       "      <td>243</td>\n",
       "      <td>541</td>\n",
       "      <td>goal</td>\n",
       "      <td>GOAL</td>\n",
       "      <td>This Is Everything.</td>\n",
       "      <td>Everywhere</td>\n",
       "      <td>6142354</td>\n",
       "      <td>443</td>\n",
       "      <td>['keira walsh', 'barcelona femeni']</td>\n",
       "      <td>NaN</td>\n",
       "      <td>NaN</td>\n",
       "      <td>True</td>\n",
       "      <td>False</td>\n",
       "      <td>False</td>\n",
       "      <td>False</td>\n",
       "    </tr>\n",
       "  </tbody>\n",
       "</table>\n",
       "</div>"
      ],
      "text/plain": [
       "                          date            id  \\\n",
       "2494 2022-09-07 15:22:15+00:00  1.567530e+18   \n",
       "\n",
       "                                                                                              text  \\\n",
       "2494  Keira Walsh joins Barcelona Femeni for a world record fee of €400k 🤯 https://t.co/TK9nKceKWb   \n",
       "\n",
       "     lang           source  likes  quotes  replies  retweets author.username  \\\n",
       "2494   en  Twitter Web App  13429     151      243       541            goal   \n",
       "\n",
       "     author.name   author.description author.location  followers  following  \\\n",
       "2494        GOAL  This Is Everything.      Everywhere    6142354        443   \n",
       "\n",
       "                           annotationsKWs hashtagsKWs mentionsKWs  barcelona  \\\n",
       "2494  ['keira walsh', 'barcelona femeni']         NaN         NaN       True   \n",
       "\n",
       "      england  man_city  lucy_bronze  \n",
       "2494    False     False        False  "
      ]
     },
     "execution_count": 34,
     "metadata": {},
     "output_type": "execute_result"
    }
   ],
   "source": [
    "df[df[\"likes\"] == df[\"likes\"].max()]"
   ]
  },
  {
   "cell_type": "markdown",
   "id": "dcc4ea64-6231-4937-8516-2b63e0a6afc1",
   "metadata": {},
   "source": [
    "**3.1 EDA** - filter the df to return the rows where the tweet text contains a certain string object (i.e. text)\n",
    "```\n",
    "df[df[\"text\"].str.contains(\"nike\")]\n",
    "```"
   ]
  },
  {
   "cell_type": "code",
   "execution_count": 35,
   "id": "e4b0a0b6-2c36-4ca2-9026-47e0648c08cd",
   "metadata": {},
   "outputs": [
    {
     "data": {
      "text/html": [
       "<div>\n",
       "<style scoped>\n",
       "    .dataframe tbody tr th:only-of-type {\n",
       "        vertical-align: middle;\n",
       "    }\n",
       "\n",
       "    .dataframe tbody tr th {\n",
       "        vertical-align: top;\n",
       "    }\n",
       "\n",
       "    .dataframe thead th {\n",
       "        text-align: right;\n",
       "    }\n",
       "</style>\n",
       "<table border=\"1\" class=\"dataframe\">\n",
       "  <thead>\n",
       "    <tr style=\"text-align: right;\">\n",
       "      <th></th>\n",
       "      <th>date</th>\n",
       "      <th>id</th>\n",
       "      <th>text</th>\n",
       "      <th>lang</th>\n",
       "      <th>source</th>\n",
       "      <th>likes</th>\n",
       "      <th>quotes</th>\n",
       "      <th>replies</th>\n",
       "      <th>retweets</th>\n",
       "      <th>author.username</th>\n",
       "      <th>author.name</th>\n",
       "      <th>author.description</th>\n",
       "      <th>author.location</th>\n",
       "      <th>followers</th>\n",
       "      <th>following</th>\n",
       "      <th>annotationsKWs</th>\n",
       "      <th>hashtagsKWs</th>\n",
       "      <th>mentionsKWs</th>\n",
       "      <th>barcelona</th>\n",
       "      <th>england</th>\n",
       "      <th>man_city</th>\n",
       "      <th>lucy_bronze</th>\n",
       "    </tr>\n",
       "  </thead>\n",
       "  <tbody>\n",
       "    <tr>\n",
       "      <th>598</th>\n",
       "      <td>2022-09-08 16:05:58+00:00</td>\n",
       "      <td>1.567910e+18</td>\n",
       "      <td>Fun facts 😉 : \\nAddition of another Midfielder that uses the @nikefootball Phantom GT Elite 2 Lucent Pack into the Team!\\nPlayers especially Midfielders that use this Boots are Maestros of the game by my books 😎.\\n@keira_walsh 🤝 @alexiaputellas https://t.co/5VF3ek0f8w</td>\n",
       "      <td>en</td>\n",
       "      <td>Twitter for Android</td>\n",
       "      <td>41</td>\n",
       "      <td>1</td>\n",
       "      <td>1</td>\n",
       "      <td>5</td>\n",
       "      <td>Seyijohnson_js</td>\n",
       "      <td>Johnson</td>\n",
       "      <td>Cynophile et Ailurophile 😺🐶 - FCB Femeni 💙❤️ - Football enthusiast ⚽ - Football Boots Design Appreciator 💯\\nVicky Lopez 💎 fan🇪🇸🇳🇬!</td>\n",
       "      <td>NaN</td>\n",
       "      <td>176</td>\n",
       "      <td>705</td>\n",
       "      <td>['phantom gt elite 2 lucent pack']</td>\n",
       "      <td>NaN</td>\n",
       "      <td>['nikefootball', 'keira_walsh', 'alexiaputellas']</td>\n",
       "      <td>False</td>\n",
       "      <td>False</td>\n",
       "      <td>False</td>\n",
       "      <td>False</td>\n",
       "    </tr>\n",
       "  </tbody>\n",
       "</table>\n",
       "</div>"
      ],
      "text/plain": [
       "                         date            id  \\\n",
       "598 2022-09-08 16:05:58+00:00  1.567910e+18   \n",
       "\n",
       "                                                                                                                                                                                                                                                                             text  \\\n",
       "598  Fun facts 😉 : \\nAddition of another Midfielder that uses the @nikefootball Phantom GT Elite 2 Lucent Pack into the Team!\\nPlayers especially Midfielders that use this Boots are Maestros of the game by my books 😎.\\n@keira_walsh 🤝 @alexiaputellas https://t.co/5VF3ek0f8w   \n",
       "\n",
       "    lang               source  likes  quotes  replies  retweets  \\\n",
       "598   en  Twitter for Android     41       1        1         5   \n",
       "\n",
       "    author.username author.name  \\\n",
       "598  Seyijohnson_js     Johnson   \n",
       "\n",
       "                                                                                                                     author.description  \\\n",
       "598  Cynophile et Ailurophile 😺🐶 - FCB Femeni 💙❤️ - Football enthusiast ⚽ - Football Boots Design Appreciator 💯\\nVicky Lopez 💎 fan🇪🇸🇳🇬!   \n",
       "\n",
       "    author.location  followers  following                      annotationsKWs  \\\n",
       "598             NaN        176        705  ['phantom gt elite 2 lucent pack']   \n",
       "\n",
       "    hashtagsKWs                                        mentionsKWs  barcelona  \\\n",
       "598         NaN  ['nikefootball', 'keira_walsh', 'alexiaputellas']      False   \n",
       "\n",
       "     england  man_city  lucy_bronze  \n",
       "598    False     False        False  "
      ]
     },
     "execution_count": 35,
     "metadata": {},
     "output_type": "execute_result"
    }
   ],
   "source": [
    "df[df[\"text\"].str.contains(\"nike\")]"
   ]
  },
  {
   "cell_type": "markdown",
   "id": "ec248190-7904-4a49-a6f5-27a9d98089a8",
   "metadata": {},
   "source": [
    "---\n",
    "> ### 4. DATA ANALYSIS & VISUALISATION"
   ]
  },
  {
   "cell_type": "markdown",
   "id": "72fe715d-9cef-47aa-bcbf-932e866f7193",
   "metadata": {},
   "source": [
    "**4.0 ANALYSIS/VIZ PREP** - convert the `date` column into the df `index`, i.e. ID for each row\n",
    "```\n",
    "df.set_index(\"date\", inplace=True)\n",
    "```"
   ]
  },
  {
   "cell_type": "code",
   "execution_count": 36,
   "id": "2e437c52-5691-4fe4-84e7-c975d26a2b00",
   "metadata": {},
   "outputs": [],
   "source": [
    "df.set_index(\"date\", inplace=True)"
   ]
  },
  {
   "cell_type": "markdown",
   "id": "ac273063-bcef-4773-87a2-9bd1a5fcacb8",
   "metadata": {},
   "source": [
    "**4.1 ANALYSIS/VIZ** - aggregate the Keira Walsh tweets which also reference Barcelona, Man City, and England by a chosen period of time and plot over time\n",
    "```\n",
    "df[[\"barcelona\", \"man_city\", \"england\"]].resample(\"H\").sum().plot( figsize=(30,8))\n",
    "```"
   ]
  },
  {
   "cell_type": "code",
   "execution_count": 69,
   "id": "518df592-9d87-4b4e-8bdc-607b57de3fff",
   "metadata": {
    "tags": []
   },
   "outputs": [
    {
     "data": {
      "text/plain": [
       "<matplotlib.axes._subplots.AxesSubplot at 0x1109dfd90>"
      ]
     },
     "execution_count": 69,
     "metadata": {},
     "output_type": "execute_result"
    },
    {
     "data": {
      "image/png": "[encoded data removed]",
      "text/plain": [
       "<Figure size 2160x576 with 1 Axes>"
      ]
     },
     "metadata": {
      "needs_background": "light"
     },
     "output_type": "display_data"
    }
   ],
   "source": [
    "df[[\"barcelona\", \"man_city\", \"england\"]].resample(\"H\").sum().plot( figsize=(30,8))"
   ]
  },
  {
   "cell_type": "markdown",
   "id": "ef3bcfe1-b784-4d18-80bc-6a7ae177d166",
   "metadata": {},
   "source": [
    "**4.2 ANALYSIS/VIZ PREP** - create a new column called `count` which has the value of 1 every row\n",
    "```\n",
    "df = df.assign(count=1)\n",
    "```"
   ]
  },
  {
   "cell_type": "code",
   "execution_count": 38,
   "id": "bb6f312f-5891-4be2-89c8-2f17e4c1a362",
   "metadata": {
    "tags": []
   },
   "outputs": [],
   "source": [
    "df = df.assign(count=1)"
   ]
  },
  {
   "cell_type": "markdown",
   "id": "72409cf7-58eb-4cb6-89ed-9941b39acf72",
   "metadata": {},
   "source": [
    "**4.3 ANALYSIS/VIZ PREP** - create a new df called `language` made up of the `lang` and `count` columns of the original df, and with `date` as a column not index anymore \n",
    "```\n",
    "language = df[[\"lang\", \"count\"]].reset_index().copy()\n",
    "```"
   ]
  },
  {
   "cell_type": "code",
   "execution_count": 39,
   "id": "ccaaf734-2c44-4af6-bd37-f2318cd63c41",
   "metadata": {},
   "outputs": [],
   "source": [
    "language = df[[\"lang\", \"count\"]].reset_index().copy()"
   ]
  },
  {
   "cell_type": "markdown",
   "id": "2fa63542-5de0-42cd-bf90-9907c32d854c",
   "metadata": {},
   "source": [
    "**4.4 ANALYSIS/VIZ PREP** - check new `language` df\n",
    "```\n",
    "language.head()\n",
    "```"
   ]
  },
  {
   "cell_type": "code",
   "execution_count": 40,
   "id": "de0d6f99-17f8-4dc0-81b3-b87ac2c7f7f7",
   "metadata": {
    "tags": []
   },
   "outputs": [
    {
     "data": {
      "text/html": [
       "<div>\n",
       "<style scoped>\n",
       "    .dataframe tbody tr th:only-of-type {\n",
       "        vertical-align: middle;\n",
       "    }\n",
       "\n",
       "    .dataframe tbody tr th {\n",
       "        vertical-align: top;\n",
       "    }\n",
       "\n",
       "    .dataframe thead th {\n",
       "        text-align: right;\n",
       "    }\n",
       "</style>\n",
       "<table border=\"1\" class=\"dataframe\">\n",
       "  <thead>\n",
       "    <tr style=\"text-align: right;\">\n",
       "      <th></th>\n",
       "      <th>date</th>\n",
       "      <th>lang</th>\n",
       "      <th>count</th>\n",
       "    </tr>\n",
       "  </thead>\n",
       "  <tbody>\n",
       "    <tr>\n",
       "      <th>0</th>\n",
       "      <td>2022-09-11 22:16:42+00:00</td>\n",
       "      <td>en</td>\n",
       "      <td>1</td>\n",
       "    </tr>\n",
       "    <tr>\n",
       "      <th>1</th>\n",
       "      <td>2022-09-11 22:05:49+00:00</td>\n",
       "      <td>und</td>\n",
       "      <td>1</td>\n",
       "    </tr>\n",
       "    <tr>\n",
       "      <th>2</th>\n",
       "      <td>2022-09-11 22:05:06+00:00</td>\n",
       "      <td>en</td>\n",
       "      <td>1</td>\n",
       "    </tr>\n",
       "    <tr>\n",
       "      <th>3</th>\n",
       "      <td>2022-09-11 22:02:56+00:00</td>\n",
       "      <td>en</td>\n",
       "      <td>1</td>\n",
       "    </tr>\n",
       "    <tr>\n",
       "      <th>4</th>\n",
       "      <td>2022-09-11 21:59:40+00:00</td>\n",
       "      <td>es</td>\n",
       "      <td>1</td>\n",
       "    </tr>\n",
       "  </tbody>\n",
       "</table>\n",
       "</div>"
      ],
      "text/plain": [
       "                       date lang  count\n",
       "0 2022-09-11 22:16:42+00:00   en      1\n",
       "1 2022-09-11 22:05:49+00:00  und      1\n",
       "2 2022-09-11 22:05:06+00:00   en      1\n",
       "3 2022-09-11 22:02:56+00:00   en      1\n",
       "4 2022-09-11 21:59:40+00:00   es      1"
      ]
     },
     "execution_count": 40,
     "metadata": {},
     "output_type": "execute_result"
    }
   ],
   "source": [
    "language.head()"
   ]
  },
  {
   "cell_type": "markdown",
   "id": "1a7dbb78-9072-422d-81b6-4cfc42a55e38",
   "metadata": {},
   "source": [
    "**4.5 ANALYSIS/VIZ** - make a frequency table and normalize the values to see which languages were used for different proportion of the tweets in the dataset\n",
    "```\n",
    "language[\"lang\"].value_counts(normalize=True)\n",
    "```"
   ]
  },
  {
   "cell_type": "code",
   "execution_count": 41,
   "id": "4298d54f-f96e-4eca-9375-86ee170866e2",
   "metadata": {
    "tags": []
   },
   "outputs": [
    {
     "data": {
      "text/plain": [
       "en     0.515308\n",
       "es     0.230219\n",
       "und    0.063221\n",
       "ca     0.036779\n",
       "pt     0.029821\n",
       "fr     0.024254\n",
       "qme    0.017694\n",
       "tl     0.017495\n",
       "in     0.016700\n",
       "de     0.008549\n",
       "qam    0.004771\n",
       "nl     0.003976\n",
       "ar     0.003380\n",
       "pl     0.003181\n",
       "tr     0.003181\n",
       "is     0.003181\n",
       "zxx    0.002982\n",
       "it     0.002982\n",
       "fi     0.002584\n",
       "lt     0.001590\n",
       "sv     0.000994\n",
       "no     0.000795\n",
       "ja     0.000795\n",
       "cs     0.000795\n",
       "da     0.000795\n",
       "ht     0.000596\n",
       "cy     0.000596\n",
       "fa     0.000398\n",
       "eu     0.000398\n",
       "hu     0.000398\n",
       "el     0.000199\n",
       "zh     0.000199\n",
       "ro     0.000199\n",
       "bn     0.000199\n",
       "lv     0.000199\n",
       "ml     0.000199\n",
       "et     0.000199\n",
       "hi     0.000199\n",
       "Name: lang, dtype: float64"
      ]
     },
     "execution_count": 41,
     "metadata": {},
     "output_type": "execute_result"
    }
   ],
   "source": [
    "language[\"lang\"].value_counts(normalize=True)"
   ]
  },
  {
   "cell_type": "markdown",
   "id": "a7b0897a-512f-4a9a-9d2f-89130ca74674",
   "metadata": {},
   "source": [
    "**4.6 ANALYSIS/VIZ PREP** - using the frequency table insight, update the values in the `lang` column so any languages other than England, Spanish, and Catalan are represented by the string `\"other\"`\n",
    "```\n",
    "language[\"lang\"] = language[\"lang\"].apply(lambda x: x if x in [\"en\", \"es\", \"ca\"] else \"other\")\n",
    "```"
   ]
  },
  {
   "cell_type": "code",
   "execution_count": 42,
   "id": "bc24d7b2-cad0-422e-9279-352a5fc3fba5",
   "metadata": {},
   "outputs": [],
   "source": [
    "language[\"lang\"] = language[\"lang\"].apply(lambda x: x if x in [\"en\", \"es\", \"ca\"] else \"other\")"
   ]
  },
  {
   "cell_type": "markdown",
   "id": "dde77751-3cab-40ff-abb7-34731b156847",
   "metadata": {},
   "source": [
    "**4.7 ANALYSIS/VIZ PREP** - check this re-categorisation by generating another frequency table\n",
    "```\n",
    "language[\"lang\"].value_counts()\n",
    "```"
   ]
  },
  {
   "cell_type": "code",
   "execution_count": 44,
   "id": "785c9709-eacc-4cfa-a0f3-b344a699677b",
   "metadata": {},
   "outputs": [
    {
     "data": {
      "text/plain": [
       "en       0.515308\n",
       "es       0.230219\n",
       "other    0.217694\n",
       "ca       0.036779\n",
       "Name: lang, dtype: float64"
      ]
     },
     "execution_count": 44,
     "metadata": {},
     "output_type": "execute_result"
    }
   ],
   "source": [
    "language[\"lang\"].value_counts(normalize=True)"
   ]
  },
  {
   "cell_type": "markdown",
   "id": "61f60ecc-e198-4ee1-8f89-c4dca56562e5",
   "metadata": {},
   "source": [
    "**4.8 ANALYSIS/VIZ** - plot the `date` and `lang` columns which have been transformed to as aggregates of number of tweets by the 4 language categories by a time period\n",
    "```\n",
    "language.groupby([\"date\", \"lang\"]).sum().unstack().resample(\"H\").sum().plot(kind=\"area\", figsize=(30,8))\n",
    "```"
   ]
  },
  {
   "cell_type": "code",
   "execution_count": 71,
   "id": "1cd5e4b6-cf16-49d6-a7e4-f2d937d04b4f",
   "metadata": {},
   "outputs": [
    {
     "data": {
      "text/plain": [
       "<matplotlib.axes._subplots.AxesSubplot at 0x110add3a0>"
      ]
     },
     "execution_count": 71,
     "metadata": {},
     "output_type": "execute_result"
    },
    {
     "data": {
      "image/png": "[encoded data removed]",
      "text/plain": [
       "<Figure size 2160x576 with 1 Axes>"
      ]
     },
     "metadata": {
      "needs_background": "light"
     },
     "output_type": "display_data"
    }
   ],
   "source": [
    "language.groupby([\"date\", \"lang\"]).sum().unstack().resample(\"H\").sum().plot(kind=\"area\", figsize=(30,8))"
   ]
  },
  {
   "cell_type": "markdown",
   "id": "3990ff44-2306-4fac-af67-c7425d647b41",
   "metadata": {},
   "source": [
    "---"
   ]
  },
  {
   "cell_type": "markdown",
   "id": "7e3b633b-f06d-4e54-8c95-5291d6db598e",
   "metadata": {},
   "source": [
    "_Sports Python Educational Project content, licensed under Attribution-NonCommercial-ShareAlike 4.0 International_"
   ]
  }
 ],
 "metadata": {
  "kernelspec": {
   "display_name": "Python 3 (ipykernel)",
   "language": "python",
   "name": "python3"
  },
  "language_info": {
   "codemirror_mode": {
    "name": "ipython",
    "version": 3
   },
   "file_extension": ".py",
   "mimetype": "text/x-python",
   "name": "python",
   "nbconvert_exporter": "python",
   "pygments_lexer": "ipython3",
   "version": "3.9.7"
  }
 },
 "nbformat": 4,
 "nbformat_minor": 5
}
