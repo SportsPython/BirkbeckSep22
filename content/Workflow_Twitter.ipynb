{
 "cells": [
  {
   "cell_type": "code",
   "execution_count": 1,
   "id": "d84ece64-0299-4b22-9848-eaf9161d95f7",
   "metadata": {},
   "outputs": [],
   "source": [
    "import pandas as pd"
   ]
  },
  {
   "cell_type": "code",
   "execution_count": 2,
   "id": "fe81cb1e-90be-4ccd-9805-9ba95a720709",
   "metadata": {},
   "outputs": [],
   "source": [
    "%config Completer.use_jedi = False\n",
    "pd.options.display.max_columns = False\n",
    "pd.options.display.max_rows = False"
   ]
  },
  {
   "cell_type": "code",
   "execution_count": 19,
   "id": "239871a1-7579-4df3-b103-1d2d8a93820b",
   "metadata": {},
   "outputs": [],
   "source": [
    "raw_data = pd.read_csv(\"twitter.csv\", parse_dates=[\"date\"])"
   ]
  },
  {
   "cell_type": "code",
   "execution_count": 20,
   "id": "e3cb5f66-1248-4bc4-bdf7-b4d912b35e13",
   "metadata": {},
   "outputs": [
    {
     "data": {
      "text/html": [
       "<div>\n",
       "<style scoped>\n",
       "    .dataframe tbody tr th:only-of-type {\n",
       "        vertical-align: middle;\n",
       "    }\n",
       "\n",
       "    .dataframe tbody tr th {\n",
       "        vertical-align: top;\n",
       "    }\n",
       "\n",
       "    .dataframe thead th {\n",
       "        text-align: right;\n",
       "    }\n",
       "</style>\n",
       "<table border=\"1\" class=\"dataframe\">\n",
       "  <thead>\n",
       "    <tr style=\"text-align: right;\">\n",
       "      <th></th>\n",
       "      <th>date</th>\n",
       "      <th>id</th>\n",
       "      <th>author_id</th>\n",
       "      <th>text</th>\n",
       "      <th>lang</th>\n",
       "      <th>source</th>\n",
       "      <th>likes</th>\n",
       "      <th>quotes</th>\n",
       "      <th>replies</th>\n",
       "      <th>retweets</th>\n",
       "      <th>annotations</th>\n",
       "      <th>hashtags</th>\n",
       "      <th>mentions</th>\n",
       "      <th>author.id</th>\n",
       "      <th>author.created_at</th>\n",
       "      <th>author.username</th>\n",
       "      <th>author.name</th>\n",
       "      <th>author.description</th>\n",
       "      <th>author.location</th>\n",
       "      <th>followers</th>\n",
       "      <th>following</th>\n",
       "      <th>annotationsKWs</th>\n",
       "      <th>hashtagsKWs</th>\n",
       "      <th>mentionsKWs</th>\n",
       "      <th>barcelona</th>\n",
       "      <th>england</th>\n",
       "      <th>man_city</th>\n",
       "      <th>lucy_bronze</th>\n",
       "    </tr>\n",
       "  </thead>\n",
       "  <tbody>\n",
       "    <tr>\n",
       "      <th>0</th>\n",
       "      <td>2022-09-11 22:16:42+00:00</td>\n",
       "      <td>1569087563880611841</td>\n",
       "      <td>980129148139200512</td>\n",
       "      <td>England Lionesses stars Keira Walsh and Lucy B...</td>\n",
       "      <td>en</td>\n",
       "      <td>theguru.pro</td>\n",
       "      <td>1</td>\n",
       "      <td>0</td>\n",
       "      <td>0</td>\n",
       "      <td>0</td>\n",
       "      <td>[{\"start\": 0, \"end\": 16, \"probability\": 0.9047...</td>\n",
       "      <td>NaN</td>\n",
       "      <td>NaN</td>\n",
       "      <td>980129148139200512</td>\n",
       "      <td>2018-03-31T17:06:13.000Z</td>\n",
       "      <td>EyePeaTV</td>\n",
       "      <td>The Guru</td>\n",
       "      <td>Retro Gamer\\nCoder\\nKodi User\\nWeb Designer\\nH...</td>\n",
       "      <td>England, United Kingdom</td>\n",
       "      <td>428</td>\n",
       "      <td>120</td>\n",
       "      <td>['england lionesses', 'keira walsh', 'lucy bro...</td>\n",
       "      <td>NaN</td>\n",
       "      <td>NaN</td>\n",
       "      <td>True</td>\n",
       "      <td>True</td>\n",
       "      <td>False</td>\n",
       "      <td>True</td>\n",
       "    </tr>\n",
       "    <tr>\n",
       "      <th>1</th>\n",
       "      <td>2022-09-11 22:05:49+00:00</td>\n",
       "      <td>1569084825805664256</td>\n",
       "      <td>534566284</td>\n",
       "      <td>@MariaTikas @sport @keira_walsh 😊😊😊</td>\n",
       "      <td>und</td>\n",
       "      <td>Twitter Web App</td>\n",
       "      <td>0</td>\n",
       "      <td>0</td>\n",
       "      <td>0</td>\n",
       "      <td>0</td>\n",
       "      <td>NaN</td>\n",
       "      <td>NaN</td>\n",
       "      <td>[{\"start\": 0, \"end\": 11, \"username\": \"MariaTik...</td>\n",
       "      <td>534566284</td>\n",
       "      <td>2012-03-23T18:02:20.000Z</td>\n",
       "      <td>asobauer</td>\n",
       "      <td>Aso Bauer</td>\n",
       "      <td>C.T.U</td>\n",
       "      <td>Virginia, USA</td>\n",
       "      <td>344</td>\n",
       "      <td>540</td>\n",
       "      <td>NaN</td>\n",
       "      <td>NaN</td>\n",
       "      <td>['mariatikas', 'sport', 'keira_walsh']</td>\n",
       "      <td>False</td>\n",
       "      <td>False</td>\n",
       "      <td>False</td>\n",
       "      <td>False</td>\n",
       "    </tr>\n",
       "    <tr>\n",
       "      <th>2</th>\n",
       "      <td>2022-09-11 22:05:06+00:00</td>\n",
       "      <td>1569084644242382852</td>\n",
       "      <td>1331632873338793986</td>\n",
       "      <td>England Lionesses stars Keira Walsh and Lucy B...</td>\n",
       "      <td>en</td>\n",
       "      <td>Publer.io</td>\n",
       "      <td>1</td>\n",
       "      <td>0</td>\n",
       "      <td>0</td>\n",
       "      <td>0</td>\n",
       "      <td>[{\"start\": 0, \"end\": 16, \"probability\": 0.9024...</td>\n",
       "      <td>NaN</td>\n",
       "      <td>NaN</td>\n",
       "      <td>1331632873338793986</td>\n",
       "      <td>2020-11-25T16:17:18.000Z</td>\n",
       "      <td>FootballReportg</td>\n",
       "      <td>Football Reporting </td>\n",
       "      <td>Football Reporting Your daily #Football #News ...</td>\n",
       "      <td>NaN</td>\n",
       "      <td>106</td>\n",
       "      <td>77</td>\n",
       "      <td>['england lionesses', 'keira walsh', 'lucy bro...</td>\n",
       "      <td>NaN</td>\n",
       "      <td>NaN</td>\n",
       "      <td>True</td>\n",
       "      <td>True</td>\n",
       "      <td>False</td>\n",
       "      <td>True</td>\n",
       "    </tr>\n",
       "    <tr>\n",
       "      <th>3</th>\n",
       "      <td>2022-09-11 22:02:56+00:00</td>\n",
       "      <td>1569084102329892864</td>\n",
       "      <td>1563337799738486786</td>\n",
       "      <td>Lionesses star duo Lucy Bronze and Keira Walsh...</td>\n",
       "      <td>en</td>\n",
       "      <td>WordPress.com</td>\n",
       "      <td>1</td>\n",
       "      <td>0</td>\n",
       "      <td>0</td>\n",
       "      <td>0</td>\n",
       "      <td>[{\"start\": 19, \"end\": 29, \"probability\": 0.969...</td>\n",
       "      <td>NaN</td>\n",
       "      <td>NaN</td>\n",
       "      <td>1563337799738486786</td>\n",
       "      <td>2022-08-27T01:29:24.000Z</td>\n",
       "      <td>Veika64150921</td>\n",
       "      <td>Veika</td>\n",
       "      <td>NaN</td>\n",
       "      <td>NaN</td>\n",
       "      <td>0</td>\n",
       "      <td>1</td>\n",
       "      <td>['lucy bronze', 'keira walsh', 'barcelona']</td>\n",
       "      <td>NaN</td>\n",
       "      <td>NaN</td>\n",
       "      <td>True</td>\n",
       "      <td>False</td>\n",
       "      <td>False</td>\n",
       "      <td>True</td>\n",
       "    </tr>\n",
       "    <tr>\n",
       "      <th>4</th>\n",
       "      <td>2022-09-11 21:59:40+00:00</td>\n",
       "      <td>1569083280154103808</td>\n",
       "      <td>1423231945958375427</td>\n",
       "      <td>Pensábamos que el yayo no iba a mover el culo ...</td>\n",
       "      <td>es</td>\n",
       "      <td>Twitter for Android</td>\n",
       "      <td>4</td>\n",
       "      <td>0</td>\n",
       "      <td>0</td>\n",
       "      <td>0</td>\n",
       "      <td>[{\"start\": 103, \"end\": 113, \"probability\": 0.9...</td>\n",
       "      <td>NaN</td>\n",
       "      <td>NaN</td>\n",
       "      <td>1423231945958375427</td>\n",
       "      <td>2021-08-05T10:38:44.000Z</td>\n",
       "      <td>Lurasidone_</td>\n",
       "      <td>Sero</td>\n",
       "      <td>how can i be homophobic? i'm fucking culé</td>\n",
       "      <td>(Ella)</td>\n",
       "      <td>761</td>\n",
       "      <td>744</td>\n",
       "      <td>['keira walsh']</td>\n",
       "      <td>NaN</td>\n",
       "      <td>NaN</td>\n",
       "      <td>False</td>\n",
       "      <td>False</td>\n",
       "      <td>False</td>\n",
       "      <td>False</td>\n",
       "    </tr>\n",
       "  </tbody>\n",
       "</table>\n",
       "</div>"
      ],
      "text/plain": [
       "                       date                   id  ...  man_city lucy_bronze\n",
       "0 2022-09-11 22:16:42+00:00  1569087563880611841  ...     False        True\n",
       "1 2022-09-11 22:05:49+00:00  1569084825805664256  ...     False       False\n",
       "2 2022-09-11 22:05:06+00:00  1569084644242382852  ...     False        True\n",
       "3 2022-09-11 22:02:56+00:00  1569084102329892864  ...     False        True\n",
       "4 2022-09-11 21:59:40+00:00  1569083280154103808  ...     False       False\n",
       "\n",
       "[5 rows x 28 columns]"
      ]
     },
     "execution_count": 20,
     "metadata": {},
     "output_type": "execute_result"
    }
   ],
   "source": [
    "raw_data.head()"
   ]
  },
  {
   "cell_type": "code",
   "execution_count": 21,
   "id": "6aa72f59-da62-408c-9314-85f25807ab25",
   "metadata": {},
   "outputs": [],
   "source": [
    "df = raw_data.copy()"
   ]
  },
  {
   "cell_type": "code",
   "execution_count": 22,
   "id": "e4b0a0b6-2c36-4ca2-9026-47e0648c08cd",
   "metadata": {},
   "outputs": [
    {
     "data": {
      "text/html": [
       "<div>\n",
       "<style scoped>\n",
       "    .dataframe tbody tr th:only-of-type {\n",
       "        vertical-align: middle;\n",
       "    }\n",
       "\n",
       "    .dataframe tbody tr th {\n",
       "        vertical-align: top;\n",
       "    }\n",
       "\n",
       "    .dataframe thead th {\n",
       "        text-align: right;\n",
       "    }\n",
       "</style>\n",
       "<table border=\"1\" class=\"dataframe\">\n",
       "  <thead>\n",
       "    <tr style=\"text-align: right;\">\n",
       "      <th></th>\n",
       "      <th>date</th>\n",
       "      <th>id</th>\n",
       "      <th>author_id</th>\n",
       "      <th>text</th>\n",
       "      <th>lang</th>\n",
       "      <th>source</th>\n",
       "      <th>likes</th>\n",
       "      <th>quotes</th>\n",
       "      <th>replies</th>\n",
       "      <th>retweets</th>\n",
       "      <th>annotations</th>\n",
       "      <th>hashtags</th>\n",
       "      <th>mentions</th>\n",
       "      <th>author.id</th>\n",
       "      <th>author.created_at</th>\n",
       "      <th>author.username</th>\n",
       "      <th>author.name</th>\n",
       "      <th>author.description</th>\n",
       "      <th>author.location</th>\n",
       "      <th>followers</th>\n",
       "      <th>following</th>\n",
       "      <th>annotationsKWs</th>\n",
       "      <th>hashtagsKWs</th>\n",
       "      <th>mentionsKWs</th>\n",
       "      <th>barcelona</th>\n",
       "      <th>england</th>\n",
       "      <th>man_city</th>\n",
       "      <th>lucy_bronze</th>\n",
       "    </tr>\n",
       "  </thead>\n",
       "  <tbody>\n",
       "    <tr>\n",
       "      <th>598</th>\n",
       "      <td>2022-09-08 16:05:58+00:00</td>\n",
       "      <td>1567907101678215169</td>\n",
       "      <td>1476539158411808774</td>\n",
       "      <td>Fun facts 😉 : \\nAddition of another Midfielder...</td>\n",
       "      <td>en</td>\n",
       "      <td>Twitter for Android</td>\n",
       "      <td>41</td>\n",
       "      <td>1</td>\n",
       "      <td>1</td>\n",
       "      <td>5</td>\n",
       "      <td>[{\"start\": 75, \"end\": 104, \"probability\": 0.36...</td>\n",
       "      <td>NaN</td>\n",
       "      <td>[{\"start\": 60, \"end\": 73, \"username\": \"nikefoo...</td>\n",
       "      <td>1476539158411808774</td>\n",
       "      <td>2021-12-30T13:02:45.000Z</td>\n",
       "      <td>Seyijohnson_js</td>\n",
       "      <td>Johnson</td>\n",
       "      <td>Cynophile et Ailurophile 😺🐶 - FCB Femeni 💙❤️ -...</td>\n",
       "      <td>NaN</td>\n",
       "      <td>176</td>\n",
       "      <td>705</td>\n",
       "      <td>['phantom gt elite 2 lucent pack']</td>\n",
       "      <td>NaN</td>\n",
       "      <td>['nikefootball', 'keira_walsh', 'alexiaputellas']</td>\n",
       "      <td>False</td>\n",
       "      <td>False</td>\n",
       "      <td>False</td>\n",
       "      <td>False</td>\n",
       "    </tr>\n",
       "  </tbody>\n",
       "</table>\n",
       "</div>"
      ],
      "text/plain": [
       "                         date                   id  ...  man_city lucy_bronze\n",
       "598 2022-09-08 16:05:58+00:00  1567907101678215169  ...     False       False\n",
       "\n",
       "[1 rows x 28 columns]"
      ]
     },
     "execution_count": 22,
     "metadata": {},
     "output_type": "execute_result"
    }
   ],
   "source": [
    "df[df[\"text\"].str.contains(\"nike\")]"
   ]
  },
  {
   "cell_type": "code",
   "execution_count": 23,
   "id": "2e437c52-5691-4fe4-84e7-c975d26a2b00",
   "metadata": {},
   "outputs": [],
   "source": [
    "df.set_index(\"date\", inplace=True)"
   ]
  },
  {
   "cell_type": "code",
   "execution_count": 24,
   "id": "bb6f312f-5891-4be2-89c8-2f17e4c1a362",
   "metadata": {
    "tags": []
   },
   "outputs": [],
   "source": [
    "df = df.assign(count=1)"
   ]
  },
  {
   "cell_type": "code",
   "execution_count": 35,
   "id": "518df592-9d87-4b4e-8bdc-607b57de3fff",
   "metadata": {
    "tags": []
   },
   "outputs": [
    {
     "data": {
      "text/plain": [
       "<matplotlib.axes._subplots.AxesSubplot at 0x10e4baf40>"
      ]
     },
     "execution_count": 35,
     "metadata": {},
     "output_type": "execute_result"
    },
    {
     "data": {
      "image/png": "[encoded data removed]",
      "text/plain": [
       "<Figure size 1080x360 with 1 Axes>"
      ]
     },
     "metadata": {
      "needs_background": "light"
     },
     "output_type": "display_data"
    }
   ],
   "source": [
    "df[[\"barcelona\", \"man_city\", \"england\"]].resample(\"H\").sum().plot( figsize=(15,5))"
   ]
  },
  {
   "cell_type": "code",
   "execution_count": 59,
   "id": "ccaaf734-2c44-4af6-bd37-f2318cd63c41",
   "metadata": {},
   "outputs": [],
   "source": [
    "language = df[[\"lang\", \"count\"]].reset_index().copy()"
   ]
  },
  {
   "cell_type": "code",
   "execution_count": 50,
   "id": "de0d6f99-17f8-4dc0-81b3-b87ac2c7f7f7",
   "metadata": {
    "collapsed": true,
    "jupyter": {
     "outputs_hidden": true
    },
    "tags": []
   },
   "outputs": [
    {
     "data": {
      "text/html": [
       "<div>\n",
       "<style scoped>\n",
       "    .dataframe tbody tr th:only-of-type {\n",
       "        vertical-align: middle;\n",
       "    }\n",
       "\n",
       "    .dataframe tbody tr th {\n",
       "        vertical-align: top;\n",
       "    }\n",
       "\n",
       "    .dataframe thead th {\n",
       "        text-align: right;\n",
       "    }\n",
       "</style>\n",
       "<table border=\"1\" class=\"dataframe\">\n",
       "  <thead>\n",
       "    <tr style=\"text-align: right;\">\n",
       "      <th></th>\n",
       "      <th>date</th>\n",
       "      <th>lang</th>\n",
       "      <th>count</th>\n",
       "    </tr>\n",
       "  </thead>\n",
       "  <tbody>\n",
       "    <tr>\n",
       "      <th>0</th>\n",
       "      <td>2022-09-11 22:16:42+00:00</td>\n",
       "      <td>en</td>\n",
       "      <td>1</td>\n",
       "    </tr>\n",
       "    <tr>\n",
       "      <th>1</th>\n",
       "      <td>2022-09-11 22:05:49+00:00</td>\n",
       "      <td>und</td>\n",
       "      <td>1</td>\n",
       "    </tr>\n",
       "    <tr>\n",
       "      <th>2</th>\n",
       "      <td>2022-09-11 22:05:06+00:00</td>\n",
       "      <td>en</td>\n",
       "      <td>1</td>\n",
       "    </tr>\n",
       "    <tr>\n",
       "      <th>3</th>\n",
       "      <td>2022-09-11 22:02:56+00:00</td>\n",
       "      <td>en</td>\n",
       "      <td>1</td>\n",
       "    </tr>\n",
       "    <tr>\n",
       "      <th>4</th>\n",
       "      <td>2022-09-11 21:59:40+00:00</td>\n",
       "      <td>es</td>\n",
       "      <td>1</td>\n",
       "    </tr>\n",
       "    <tr>\n",
       "      <th>5</th>\n",
       "      <td>2022-09-11 21:55:59+00:00</td>\n",
       "      <td>qam</td>\n",
       "      <td>1</td>\n",
       "    </tr>\n",
       "    <tr>\n",
       "      <th>6</th>\n",
       "      <td>2022-09-11 21:22:46+00:00</td>\n",
       "      <td>en</td>\n",
       "      <td>1</td>\n",
       "    </tr>\n",
       "    <tr>\n",
       "      <th>7</th>\n",
       "      <td>2022-09-11 21:21:52+00:00</td>\n",
       "      <td>es</td>\n",
       "      <td>1</td>\n",
       "    </tr>\n",
       "    <tr>\n",
       "      <th>8</th>\n",
       "      <td>2022-09-11 21:19:21+00:00</td>\n",
       "      <td>ca</td>\n",
       "      <td>1</td>\n",
       "    </tr>\n",
       "    <tr>\n",
       "      <th>...</th>\n",
       "      <td>...</td>\n",
       "      <td>...</td>\n",
       "      <td>...</td>\n",
       "    </tr>\n",
       "    <tr>\n",
       "      <th>5021</th>\n",
       "      <td>2022-09-05 07:10:03+00:00</td>\n",
       "      <td>tl</td>\n",
       "      <td>1</td>\n",
       "    </tr>\n",
       "    <tr>\n",
       "      <th>5022</th>\n",
       "      <td>2022-09-05 07:06:53+00:00</td>\n",
       "      <td>en</td>\n",
       "      <td>1</td>\n",
       "    </tr>\n",
       "    <tr>\n",
       "      <th>5023</th>\n",
       "      <td>2022-09-05 03:08:19+00:00</td>\n",
       "      <td>es</td>\n",
       "      <td>1</td>\n",
       "    </tr>\n",
       "    <tr>\n",
       "      <th>5024</th>\n",
       "      <td>2022-09-05 02:33:27+00:00</td>\n",
       "      <td>pt</td>\n",
       "      <td>1</td>\n",
       "    </tr>\n",
       "    <tr>\n",
       "      <th>5025</th>\n",
       "      <td>2022-09-05 01:58:12+00:00</td>\n",
       "      <td>es</td>\n",
       "      <td>1</td>\n",
       "    </tr>\n",
       "    <tr>\n",
       "      <th>5026</th>\n",
       "      <td>2022-09-05 00:39:46+00:00</td>\n",
       "      <td>en</td>\n",
       "      <td>1</td>\n",
       "    </tr>\n",
       "    <tr>\n",
       "      <th>5027</th>\n",
       "      <td>2022-09-05 00:10:51+00:00</td>\n",
       "      <td>en</td>\n",
       "      <td>1</td>\n",
       "    </tr>\n",
       "    <tr>\n",
       "      <th>5028</th>\n",
       "      <td>2022-09-04 23:53:45+00:00</td>\n",
       "      <td>es</td>\n",
       "      <td>1</td>\n",
       "    </tr>\n",
       "    <tr>\n",
       "      <th>5029</th>\n",
       "      <td>2022-09-04 23:03:50+00:00</td>\n",
       "      <td>en</td>\n",
       "      <td>1</td>\n",
       "    </tr>\n",
       "  </tbody>\n",
       "</table>\n",
       "<p>5030 rows × 3 columns</p>\n",
       "</div>"
      ],
      "text/plain": [
       "                          date lang  count\n",
       "0    2022-09-11 22:16:42+00:00   en      1\n",
       "1    2022-09-11 22:05:49+00:00  und      1\n",
       "2    2022-09-11 22:05:06+00:00   en      1\n",
       "3    2022-09-11 22:02:56+00:00   en      1\n",
       "4    2022-09-11 21:59:40+00:00   es      1\n",
       "5    2022-09-11 21:55:59+00:00  qam      1\n",
       "6    2022-09-11 21:22:46+00:00   en      1\n",
       "7    2022-09-11 21:21:52+00:00   es      1\n",
       "8    2022-09-11 21:19:21+00:00   ca      1\n",
       "...                        ...  ...    ...\n",
       "5021 2022-09-05 07:10:03+00:00   tl      1\n",
       "5022 2022-09-05 07:06:53+00:00   en      1\n",
       "5023 2022-09-05 03:08:19+00:00   es      1\n",
       "5024 2022-09-05 02:33:27+00:00   pt      1\n",
       "5025 2022-09-05 01:58:12+00:00   es      1\n",
       "5026 2022-09-05 00:39:46+00:00   en      1\n",
       "5027 2022-09-05 00:10:51+00:00   en      1\n",
       "5028 2022-09-04 23:53:45+00:00   es      1\n",
       "5029 2022-09-04 23:03:50+00:00   en      1\n",
       "\n",
       "[5030 rows x 3 columns]"
      ]
     },
     "execution_count": 50,
     "metadata": {},
     "output_type": "execute_result"
    }
   ],
   "source": [
    "language"
   ]
  },
  {
   "cell_type": "code",
   "execution_count": 60,
   "id": "4298d54f-f96e-4eca-9375-86ee170866e2",
   "metadata": {
    "tags": []
   },
   "outputs": [
    {
     "data": {
      "text/plain": [
       "en     0.515308\n",
       "es     0.230219\n",
       "und    0.063221\n",
       "ca     0.036779\n",
       "pt     0.029821\n",
       "fr     0.024254\n",
       "qme    0.017694\n",
       "tl     0.017495\n",
       "in     0.016700\n",
       "de     0.008549\n",
       "qam    0.004771\n",
       "nl     0.003976\n",
       "         ...   \n",
       "cy     0.000596\n",
       "fa     0.000398\n",
       "eu     0.000398\n",
       "hu     0.000398\n",
       "el     0.000199\n",
       "zh     0.000199\n",
       "ro     0.000199\n",
       "bn     0.000199\n",
       "lv     0.000199\n",
       "ml     0.000199\n",
       "et     0.000199\n",
       "hi     0.000199\n",
       "Name: lang, Length: 38, dtype: float64"
      ]
     },
     "execution_count": 60,
     "metadata": {},
     "output_type": "execute_result"
    }
   ],
   "source": [
    "language[\"lang\"].value_counts(normalize=True)"
   ]
  },
  {
   "cell_type": "code",
   "execution_count": 64,
   "id": "bc24d7b2-cad0-422e-9279-352a5fc3fba5",
   "metadata": {},
   "outputs": [],
   "source": [
    "language[\"lang\"] = language[\"lang\"].apply(lambda x: x if x in [\"en\", \"es\", \"ca\"] else \"other\")"
   ]
  },
  {
   "cell_type": "code",
   "execution_count": 67,
   "id": "785c9709-eacc-4cfa-a0f3-b344a699677b",
   "metadata": {},
   "outputs": [
    {
     "data": {
      "text/plain": [
       "en       2592\n",
       "es       1158\n",
       "other    1095\n",
       "ca        185\n",
       "Name: lang, dtype: int64"
      ]
     },
     "execution_count": 67,
     "metadata": {},
     "output_type": "execute_result"
    }
   ],
   "source": [
    "language[\"lang\"].value_counts()"
   ]
  },
  {
   "cell_type": "code",
   "execution_count": 74,
   "id": "32eefc55-ca69-4800-b3cf-51a0b5c4ea5f",
   "metadata": {},
   "outputs": [],
   "source": []
  },
  {
   "cell_type": "code",
   "execution_count": 86,
   "id": "1cd5e4b6-cf16-49d6-a7e4-f2d937d04b4f",
   "metadata": {},
   "outputs": [
    {
     "data": {
      "text/plain": [
       "<matplotlib.axes._subplots.AxesSubplot at 0x153437340>"
      ]
     },
     "execution_count": 86,
     "metadata": {},
     "output_type": "execute_result"
    },
    {
     "data": {
      "image/png": "[encoded data removed]",
      "text/plain": [
       "<Figure size 1440x360 with 1 Axes>"
      ]
     },
     "metadata": {
      "needs_background": "light"
     },
     "output_type": "display_data"
    }
   ],
   "source": [
    "language.groupby([\"date\", \"lang\"]).sum().unstack().resample(\"H\").sum().plot(kind=\"area\", figsize=(20,5))"
   ]
  },
  {
   "cell_type": "code",
   "execution_count": null,
   "id": "f8fb3262-d688-426c-ba5f-e43caad1d6b2",
   "metadata": {},
   "outputs": [],
   "source": []
  },
  {
   "cell_type": "code",
   "execution_count": null,
   "id": "71264ee3-022e-4e7c-9f62-57d42089bb28",
   "metadata": {},
   "outputs": [],
   "source": []
  },
  {
   "cell_type": "code",
   "execution_count": null,
   "id": "87ec1168-1cfb-42b8-8089-5a1cd4d4afb9",
   "metadata": {},
   "outputs": [],
   "source": []
  },
  {
   "cell_type": "code",
   "execution_count": null,
   "id": "a2805a71-3494-495f-a13f-3b8cfd2a9f0e",
   "metadata": {},
   "outputs": [],
   "source": []
  }
 ],
 "metadata": {
  "kernelspec": {
   "display_name": "Python 3 (ipykernel)",
   "language": "python",
   "name": "python3"
  },
  "language_info": {
   "codemirror_mode": {
    "name": "ipython",
    "version": 3
   },
   "file_extension": ".py",
   "mimetype": "text/x-python",
   "name": "python",
   "nbconvert_exporter": "python",
   "pygments_lexer": "ipython3",
   "version": "3.9.7"
  }
 },
 "nbformat": 4,
 "nbformat_minor": 5
}
