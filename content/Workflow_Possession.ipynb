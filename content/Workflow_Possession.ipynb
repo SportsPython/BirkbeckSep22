{
 "cells": [
  {
   "cell_type": "markdown",
   "id": "88514696-0487-49ff-b04c-97e2a9ddcf33",
   "metadata": {},
   "source": [
    "## Workflow - Possession % (Team)"
   ]
  },
  {
   "cell_type": "markdown",
   "id": "602c384a-ff52-4649-9ecf-8be878f28349",
   "metadata": {},
   "source": [
    "---\n",
    "> ### 1. SET UP DEVELOPMENT ENVIRONMENT"
   ]
  },
  {
   "cell_type": "markdown",
   "id": "87f3862e-2f56-4a04-b810-6b81f494303d",
   "metadata": {},
   "source": [
    "**1.0 Import required Python software into current development environment (i.e. this notebook)**\n",
    "```\n",
    "import pandas as pd\n",
    "```"
   ]
  },
  {
   "cell_type": "code",
   "execution_count": 16,
   "id": "3d2828f3-f3e6-4ffb-b4cb-33f97dfaf6aa",
   "metadata": {},
   "outputs": [],
   "source": [
    "import pandas as pd"
   ]
  },
  {
   "cell_type": "code",
   "execution_count": null,
   "id": "e03b1305-a714-4017-bbf9-1b89703ab82b",
   "metadata": {},
   "outputs": [],
   "source": []
  },
  {
   "cell_type": "markdown",
   "id": "f58b7a19-5303-4cb1-91dd-86aa075964e3",
   "metadata": {},
   "source": [
    "**1.1 Configure notebook for code autocompletion + displaying plots + displaying max columns and rows of panda data objects**\n",
    "```\n",
    "%config Completer.use_jedi = False\n",
    "%matplotlib inline\n",
    "pd.options.display.max_columns = None\n",
    "pd.options.display.max_rows = None\n",
    "```"
   ]
  },
  {
   "cell_type": "code",
   "execution_count": 17,
   "id": "f8334146-a439-4b92-b2e0-da03bf84c683",
   "metadata": {},
   "outputs": [],
   "source": [
    "%config Completer.use_jedi = False\n",
    "%matplotlib inline\n",
    "pd.options.display.max_columns = None\n",
    "pd.options.display.max_rows = None"
   ]
  },
  {
   "cell_type": "code",
   "execution_count": null,
   "id": "52a454fb-026c-4a9e-bb2c-dd0a35194b2b",
   "metadata": {},
   "outputs": [],
   "source": []
  },
  {
   "cell_type": "markdown",
   "id": "62c7c1c2-d755-4608-b612-e07e47f6c00c",
   "metadata": {},
   "source": [
    "---\n",
    "> ### 2. LOAD & PREP DATA"
   ]
  },
  {
   "cell_type": "markdown",
   "id": "627d6942-4a47-4ef8-9564-8b3818b26678",
   "metadata": {},
   "source": [
    "**2.0 Data Load** - read in the `match_events.csv` file located in the `data` directory (folder)\n",
    "```\n",
    "raw_data = pd.read_csv(\"data/match_events.csv\")\n",
    "```"
   ]
  },
  {
   "cell_type": "code",
   "execution_count": 18,
   "id": "ebcb8880-cb3d-4c64-a81a-1b4f49535824",
   "metadata": {},
   "outputs": [],
   "source": [
    "raw_data = pd.read_csv(\"data/match_events.csv\")"
   ]
  },
  {
   "cell_type": "code",
   "execution_count": null,
   "id": "e93cece3-eefa-4ccd-aa35-9a2dc3283489",
   "metadata": {},
   "outputs": [],
   "source": []
  },
  {
   "cell_type": "markdown",
   "id": "364e5f2b-5aa4-4f01-9a46-082821090c1e",
   "metadata": {},
   "source": [
    "**2.1 Data Prep** - make a copy of raw data to work on called `df`\n",
    "\n",
    "```\n",
    "df = raw_data.copy()\n",
    "```"
   ]
  },
  {
   "cell_type": "code",
   "execution_count": 19,
   "id": "110079ae-4e38-4672-aac5-05e9ac88532c",
   "metadata": {},
   "outputs": [],
   "source": [
    "df = raw_data.copy()"
   ]
  },
  {
   "cell_type": "code",
   "execution_count": null,
   "id": "21d131da-81c8-4165-b2bb-e986b7b7a616",
   "metadata": {},
   "outputs": [],
   "source": []
  },
  {
   "cell_type": "markdown",
   "id": "149a79b9-dad4-4b7c-a136-132b85787631",
   "metadata": {},
   "source": [
    "**2.2 Data Prep** - use the `head()` function to check the first 5 rows of the `df` object, which is a `pandas` dataframe (df), basically a 2 dimensional data structure with rows & columns \n",
    "```\n",
    "df.head()\n",
    "```"
   ]
  },
  {
   "cell_type": "code",
   "execution_count": 20,
   "id": "616355d2-731f-4db0-be15-dbd621c96746",
   "metadata": {},
   "outputs": [
    {
     "data": {
      "text/html": [
       "<div>\n",
       "<style scoped>\n",
       "    .dataframe tbody tr th:only-of-type {\n",
       "        vertical-align: middle;\n",
       "    }\n",
       "\n",
       "    .dataframe tbody tr th {\n",
       "        vertical-align: top;\n",
       "    }\n",
       "\n",
       "    .dataframe thead th {\n",
       "        text-align: right;\n",
       "    }\n",
       "</style>\n",
       "<table border=\"1\" class=\"dataframe\">\n",
       "  <thead>\n",
       "    <tr style=\"text-align: right;\">\n",
       "      <th></th>\n",
       "      <th>start_min</th>\n",
       "      <th>start_sec</th>\n",
       "      <th>end_min</th>\n",
       "      <th>end_sec</th>\n",
       "      <th>match_half</th>\n",
       "      <th>player1</th>\n",
       "      <th>player1_team</th>\n",
       "      <th>player2</th>\n",
       "      <th>player2_team</th>\n",
       "      <th>event</th>\n",
       "      <th>press</th>\n",
       "      <th>press_team</th>\n",
       "      <th>start_x</th>\n",
       "      <th>start_y</th>\n",
       "      <th>end_x</th>\n",
       "      <th>end_y</th>\n",
       "      <th>press_x</th>\n",
       "      <th>press_y</th>\n",
       "    </tr>\n",
       "  </thead>\n",
       "  <tbody>\n",
       "    <tr>\n",
       "      <th>0</th>\n",
       "      <td>0</td>\n",
       "      <td>0</td>\n",
       "      <td>0.0</td>\n",
       "      <td>0.0</td>\n",
       "      <td>1</td>\n",
       "      <td>fernandes</td>\n",
       "      <td>man_u</td>\n",
       "      <td>NaN</td>\n",
       "      <td>NaN</td>\n",
       "      <td>set_piece</td>\n",
       "      <td>NaN</td>\n",
       "      <td>NaN</td>\n",
       "      <td>52.5</td>\n",
       "      <td>34.0</td>\n",
       "      <td>NaN</td>\n",
       "      <td>NaN</td>\n",
       "      <td>NaN</td>\n",
       "      <td>NaN</td>\n",
       "    </tr>\n",
       "    <tr>\n",
       "      <th>1</th>\n",
       "      <td>0</td>\n",
       "      <td>0</td>\n",
       "      <td>0.0</td>\n",
       "      <td>1.0</td>\n",
       "      <td>1</td>\n",
       "      <td>fernandes</td>\n",
       "      <td>man_u</td>\n",
       "      <td>ronaldo</td>\n",
       "      <td>man_u</td>\n",
       "      <td>completed_pass</td>\n",
       "      <td>NaN</td>\n",
       "      <td>NaN</td>\n",
       "      <td>52.5</td>\n",
       "      <td>34.0</td>\n",
       "      <td>55.8</td>\n",
       "      <td>31.3</td>\n",
       "      <td>NaN</td>\n",
       "      <td>NaN</td>\n",
       "    </tr>\n",
       "    <tr>\n",
       "      <th>2</th>\n",
       "      <td>0</td>\n",
       "      <td>1</td>\n",
       "      <td>0.0</td>\n",
       "      <td>2.0</td>\n",
       "      <td>1</td>\n",
       "      <td>ronaldo</td>\n",
       "      <td>man_u</td>\n",
       "      <td>matic</td>\n",
       "      <td>man_u</td>\n",
       "      <td>completed_pass</td>\n",
       "      <td>odegaard</td>\n",
       "      <td>arsenal</td>\n",
       "      <td>55.8</td>\n",
       "      <td>31.3</td>\n",
       "      <td>65.6</td>\n",
       "      <td>33.4</td>\n",
       "      <td>55.7</td>\n",
       "      <td>30.4</td>\n",
       "    </tr>\n",
       "    <tr>\n",
       "      <th>3</th>\n",
       "      <td>0</td>\n",
       "      <td>2</td>\n",
       "      <td>0.0</td>\n",
       "      <td>3.0</td>\n",
       "      <td>1</td>\n",
       "      <td>matic</td>\n",
       "      <td>man_u</td>\n",
       "      <td>dalot</td>\n",
       "      <td>man_u</td>\n",
       "      <td>completed_pass</td>\n",
       "      <td>nketiah</td>\n",
       "      <td>arsenal</td>\n",
       "      <td>65.6</td>\n",
       "      <td>33.4</td>\n",
       "      <td>72.2</td>\n",
       "      <td>55.2</td>\n",
       "      <td>63.4</td>\n",
       "      <td>36.4</td>\n",
       "    </tr>\n",
       "    <tr>\n",
       "      <th>4</th>\n",
       "      <td>0</td>\n",
       "      <td>3</td>\n",
       "      <td>0.0</td>\n",
       "      <td>5.0</td>\n",
       "      <td>1</td>\n",
       "      <td>dalot</td>\n",
       "      <td>man_u</td>\n",
       "      <td>NaN</td>\n",
       "      <td>NaN</td>\n",
       "      <td>incomplete_pass</td>\n",
       "      <td>NaN</td>\n",
       "      <td>NaN</td>\n",
       "      <td>72.2</td>\n",
       "      <td>55.2</td>\n",
       "      <td>NaN</td>\n",
       "      <td>NaN</td>\n",
       "      <td>NaN</td>\n",
       "      <td>NaN</td>\n",
       "    </tr>\n",
       "  </tbody>\n",
       "</table>\n",
       "</div>"
      ],
      "text/plain": [
       "   start_min  start_sec  end_min  end_sec  match_half    player1 player1_team  \\\n",
       "0          0          0      0.0      0.0           1  fernandes        man_u   \n",
       "1          0          0      0.0      1.0           1  fernandes        man_u   \n",
       "2          0          1      0.0      2.0           1    ronaldo        man_u   \n",
       "3          0          2      0.0      3.0           1      matic        man_u   \n",
       "4          0          3      0.0      5.0           1      dalot        man_u   \n",
       "\n",
       "   player2 player2_team            event     press press_team  start_x  \\\n",
       "0      NaN          NaN        set_piece       NaN        NaN     52.5   \n",
       "1  ronaldo        man_u   completed_pass       NaN        NaN     52.5   \n",
       "2    matic        man_u   completed_pass  odegaard    arsenal     55.8   \n",
       "3    dalot        man_u   completed_pass   nketiah    arsenal     65.6   \n",
       "4      NaN          NaN  incomplete_pass       NaN        NaN     72.2   \n",
       "\n",
       "   start_y  end_x  end_y  press_x  press_y  \n",
       "0     34.0    NaN    NaN      NaN      NaN  \n",
       "1     34.0   55.8   31.3      NaN      NaN  \n",
       "2     31.3   65.6   33.4     55.7     30.4  \n",
       "3     33.4   72.2   55.2     63.4     36.4  \n",
       "4     55.2    NaN    NaN      NaN      NaN  "
      ]
     },
     "execution_count": 20,
     "metadata": {},
     "output_type": "execute_result"
    }
   ],
   "source": [
    "df.head()"
   ]
  },
  {
   "cell_type": "code",
   "execution_count": null,
   "id": "ef826f70-d88b-49b8-9c64-3fcaf37567d9",
   "metadata": {},
   "outputs": [],
   "source": []
  },
  {
   "cell_type": "markdown",
   "id": "cd7e36de-2fc9-4c91-bdbb-316f7bb5c996",
   "metadata": {},
   "source": [
    "**2.3 Data Prep** - check the dimensions of the `df` (<no. of rows>, <no. of columns>). Should be (1854, 18).\n",
    "```\n",
    "df.shape\n",
    "```"
   ]
  },
  {
   "cell_type": "code",
   "execution_count": 21,
   "id": "63786a63-2a8e-4591-913b-089ed2f8ba83",
   "metadata": {},
   "outputs": [
    {
     "data": {
      "text/plain": [
       "(1854, 18)"
      ]
     },
     "execution_count": 21,
     "metadata": {},
     "output_type": "execute_result"
    }
   ],
   "source": [
    "df.shape"
   ]
  },
  {
   "cell_type": "code",
   "execution_count": null,
   "id": "52727a74-89e2-46e6-9c0e-37d4f98f6cd3",
   "metadata": {},
   "outputs": [],
   "source": []
  },
  {
   "cell_type": "markdown",
   "id": "56b321e8-af26-439d-a509-ebe92826bf01",
   "metadata": {},
   "source": [
    "---\n",
    "> ### 3. EXPLORATORY DATA ANALYSIS (EDA)"
   ]
  },
  {
   "cell_type": "markdown",
   "id": "f0652ef9-2e64-4230-b0e4-e5b5ca796ce0",
   "metadata": {},
   "source": [
    "**3.0 EDA** - create a new variable (object) called `pass_filter` that can be used to filter the `df` for just the `\"completed_pass\"` events\n",
    "```\n",
    "pass_filter = (df[\"event\"] == \"completed_pass\")\n",
    "```"
   ]
  },
  {
   "cell_type": "code",
   "execution_count": 22,
   "id": "dd765513-baac-4c49-85ba-1ddb39445837",
   "metadata": {},
   "outputs": [],
   "source": [
    "pass_filter = (df[\"event\"] == \"completed_pass\")"
   ]
  },
  {
   "cell_type": "code",
   "execution_count": null,
   "id": "c24f8fc5-f9ca-4279-8037-61c1cef5a4c5",
   "metadata": {},
   "outputs": [],
   "source": []
  },
  {
   "cell_type": "markdown",
   "id": "85ad26b9-ae27-4d5b-89b1-0aeca94d488e",
   "metadata": {},
   "source": [
    "**3.1 EDA** - use the `pass_filter` to view the `df` filtered for just the `\"completed_pass\"` events, also chaining on the `head()` function \n",
    "```\n",
    "df[pass_filter].head()\n",
    "```"
   ]
  },
  {
   "cell_type": "code",
   "execution_count": 23,
   "id": "48dab2f1-e84c-48d2-aa20-df91e072e81c",
   "metadata": {},
   "outputs": [
    {
     "data": {
      "text/html": [
       "<div>\n",
       "<style scoped>\n",
       "    .dataframe tbody tr th:only-of-type {\n",
       "        vertical-align: middle;\n",
       "    }\n",
       "\n",
       "    .dataframe tbody tr th {\n",
       "        vertical-align: top;\n",
       "    }\n",
       "\n",
       "    .dataframe thead th {\n",
       "        text-align: right;\n",
       "    }\n",
       "</style>\n",
       "<table border=\"1\" class=\"dataframe\">\n",
       "  <thead>\n",
       "    <tr style=\"text-align: right;\">\n",
       "      <th></th>\n",
       "      <th>start_min</th>\n",
       "      <th>start_sec</th>\n",
       "      <th>end_min</th>\n",
       "      <th>end_sec</th>\n",
       "      <th>match_half</th>\n",
       "      <th>player1</th>\n",
       "      <th>player1_team</th>\n",
       "      <th>player2</th>\n",
       "      <th>player2_team</th>\n",
       "      <th>event</th>\n",
       "      <th>press</th>\n",
       "      <th>press_team</th>\n",
       "      <th>start_x</th>\n",
       "      <th>start_y</th>\n",
       "      <th>end_x</th>\n",
       "      <th>end_y</th>\n",
       "      <th>press_x</th>\n",
       "      <th>press_y</th>\n",
       "    </tr>\n",
       "  </thead>\n",
       "  <tbody>\n",
       "    <tr>\n",
       "      <th>1</th>\n",
       "      <td>0</td>\n",
       "      <td>0</td>\n",
       "      <td>0.0</td>\n",
       "      <td>1.0</td>\n",
       "      <td>1</td>\n",
       "      <td>fernandes</td>\n",
       "      <td>man_u</td>\n",
       "      <td>ronaldo</td>\n",
       "      <td>man_u</td>\n",
       "      <td>completed_pass</td>\n",
       "      <td>NaN</td>\n",
       "      <td>NaN</td>\n",
       "      <td>52.5</td>\n",
       "      <td>34.0</td>\n",
       "      <td>55.8</td>\n",
       "      <td>31.3</td>\n",
       "      <td>NaN</td>\n",
       "      <td>NaN</td>\n",
       "    </tr>\n",
       "    <tr>\n",
       "      <th>2</th>\n",
       "      <td>0</td>\n",
       "      <td>1</td>\n",
       "      <td>0.0</td>\n",
       "      <td>2.0</td>\n",
       "      <td>1</td>\n",
       "      <td>ronaldo</td>\n",
       "      <td>man_u</td>\n",
       "      <td>matic</td>\n",
       "      <td>man_u</td>\n",
       "      <td>completed_pass</td>\n",
       "      <td>odegaard</td>\n",
       "      <td>arsenal</td>\n",
       "      <td>55.8</td>\n",
       "      <td>31.3</td>\n",
       "      <td>65.6</td>\n",
       "      <td>33.4</td>\n",
       "      <td>55.7</td>\n",
       "      <td>30.4</td>\n",
       "    </tr>\n",
       "    <tr>\n",
       "      <th>3</th>\n",
       "      <td>0</td>\n",
       "      <td>2</td>\n",
       "      <td>0.0</td>\n",
       "      <td>3.0</td>\n",
       "      <td>1</td>\n",
       "      <td>matic</td>\n",
       "      <td>man_u</td>\n",
       "      <td>dalot</td>\n",
       "      <td>man_u</td>\n",
       "      <td>completed_pass</td>\n",
       "      <td>nketiah</td>\n",
       "      <td>arsenal</td>\n",
       "      <td>65.6</td>\n",
       "      <td>33.4</td>\n",
       "      <td>72.2</td>\n",
       "      <td>55.2</td>\n",
       "      <td>63.4</td>\n",
       "      <td>36.4</td>\n",
       "    </tr>\n",
       "    <tr>\n",
       "      <th>8</th>\n",
       "      <td>0</td>\n",
       "      <td>8</td>\n",
       "      <td>0.0</td>\n",
       "      <td>10.0</td>\n",
       "      <td>1</td>\n",
       "      <td>elneny</td>\n",
       "      <td>arsenal</td>\n",
       "      <td>cedric</td>\n",
       "      <td>arsenal</td>\n",
       "      <td>completed_pass</td>\n",
       "      <td>fernandes</td>\n",
       "      <td>man_u</td>\n",
       "      <td>37.6</td>\n",
       "      <td>40.0</td>\n",
       "      <td>28.8</td>\n",
       "      <td>18.3</td>\n",
       "      <td>37.4</td>\n",
       "      <td>42.6</td>\n",
       "    </tr>\n",
       "    <tr>\n",
       "      <th>17</th>\n",
       "      <td>0</td>\n",
       "      <td>28</td>\n",
       "      <td>0.0</td>\n",
       "      <td>30.0</td>\n",
       "      <td>1</td>\n",
       "      <td>cedric</td>\n",
       "      <td>arsenal</td>\n",
       "      <td>white</td>\n",
       "      <td>arsenal</td>\n",
       "      <td>completed_pass</td>\n",
       "      <td>NaN</td>\n",
       "      <td>NaN</td>\n",
       "      <td>57.6</td>\n",
       "      <td>7.6</td>\n",
       "      <td>56.1</td>\n",
       "      <td>10.2</td>\n",
       "      <td>NaN</td>\n",
       "      <td>NaN</td>\n",
       "    </tr>\n",
       "  </tbody>\n",
       "</table>\n",
       "</div>"
      ],
      "text/plain": [
       "    start_min  start_sec  end_min  end_sec  match_half    player1  \\\n",
       "1           0          0      0.0      1.0           1  fernandes   \n",
       "2           0          1      0.0      2.0           1    ronaldo   \n",
       "3           0          2      0.0      3.0           1      matic   \n",
       "8           0          8      0.0     10.0           1     elneny   \n",
       "17          0         28      0.0     30.0           1     cedric   \n",
       "\n",
       "   player1_team  player2 player2_team           event      press press_team  \\\n",
       "1         man_u  ronaldo        man_u  completed_pass        NaN        NaN   \n",
       "2         man_u    matic        man_u  completed_pass   odegaard    arsenal   \n",
       "3         man_u    dalot        man_u  completed_pass    nketiah    arsenal   \n",
       "8       arsenal   cedric      arsenal  completed_pass  fernandes      man_u   \n",
       "17      arsenal    white      arsenal  completed_pass        NaN        NaN   \n",
       "\n",
       "    start_x  start_y  end_x  end_y  press_x  press_y  \n",
       "1      52.5     34.0   55.8   31.3      NaN      NaN  \n",
       "2      55.8     31.3   65.6   33.4     55.7     30.4  \n",
       "3      65.6     33.4   72.2   55.2     63.4     36.4  \n",
       "8      37.6     40.0   28.8   18.3     37.4     42.6  \n",
       "17     57.6      7.6   56.1   10.2      NaN      NaN  "
      ]
     },
     "execution_count": 23,
     "metadata": {},
     "output_type": "execute_result"
    }
   ],
   "source": [
    "df[pass_filter].head()"
   ]
  },
  {
   "cell_type": "code",
   "execution_count": null,
   "id": "5a9dadca-aa08-484f-9934-c612aad60fc2",
   "metadata": {},
   "outputs": [],
   "source": []
  },
  {
   "cell_type": "markdown",
   "id": "6e431896-9e66-4cd3-a4e6-be2d92a20cd2",
   "metadata": {},
   "source": [
    "**3.2 EDA** - copy the code from `3.1` and also specify selecting only the `player1_team` and `event` columns of this pass-filtered `df`\n",
    "```\n",
    "df[pass_filter][[\"player1_team\", \"event\"]].head()\n",
    "```"
   ]
  },
  {
   "cell_type": "code",
   "execution_count": 24,
   "id": "abea6839-2d74-4b1d-ad78-59a32159de5f",
   "metadata": {
    "tags": []
   },
   "outputs": [
    {
     "data": {
      "text/html": [
       "<div>\n",
       "<style scoped>\n",
       "    .dataframe tbody tr th:only-of-type {\n",
       "        vertical-align: middle;\n",
       "    }\n",
       "\n",
       "    .dataframe tbody tr th {\n",
       "        vertical-align: top;\n",
       "    }\n",
       "\n",
       "    .dataframe thead th {\n",
       "        text-align: right;\n",
       "    }\n",
       "</style>\n",
       "<table border=\"1\" class=\"dataframe\">\n",
       "  <thead>\n",
       "    <tr style=\"text-align: right;\">\n",
       "      <th></th>\n",
       "      <th>player1_team</th>\n",
       "      <th>event</th>\n",
       "    </tr>\n",
       "  </thead>\n",
       "  <tbody>\n",
       "    <tr>\n",
       "      <th>1</th>\n",
       "      <td>man_u</td>\n",
       "      <td>completed_pass</td>\n",
       "    </tr>\n",
       "    <tr>\n",
       "      <th>2</th>\n",
       "      <td>man_u</td>\n",
       "      <td>completed_pass</td>\n",
       "    </tr>\n",
       "    <tr>\n",
       "      <th>3</th>\n",
       "      <td>man_u</td>\n",
       "      <td>completed_pass</td>\n",
       "    </tr>\n",
       "    <tr>\n",
       "      <th>8</th>\n",
       "      <td>arsenal</td>\n",
       "      <td>completed_pass</td>\n",
       "    </tr>\n",
       "    <tr>\n",
       "      <th>17</th>\n",
       "      <td>arsenal</td>\n",
       "      <td>completed_pass</td>\n",
       "    </tr>\n",
       "  </tbody>\n",
       "</table>\n",
       "</div>"
      ],
      "text/plain": [
       "   player1_team           event\n",
       "1         man_u  completed_pass\n",
       "2         man_u  completed_pass\n",
       "3         man_u  completed_pass\n",
       "8       arsenal  completed_pass\n",
       "17      arsenal  completed_pass"
      ]
     },
     "execution_count": 24,
     "metadata": {},
     "output_type": "execute_result"
    }
   ],
   "source": [
    "df[pass_filter][[\"player1_team\", \"event\"]].head()"
   ]
  },
  {
   "cell_type": "code",
   "execution_count": null,
   "id": "008b7fef-2687-4fe6-8b0e-e894d7f4afb0",
   "metadata": {},
   "outputs": [],
   "source": []
  },
  {
   "cell_type": "markdown",
   "id": "13e29f64-5df1-48b5-9e37-e7853ed90c14",
   "metadata": {},
   "source": [
    "**3.3 EDA** - copy the code from `3.2` and chain on another function called `groupby()`, specifying `player1_team` as the column to group the data by, finally chaining a `size()` function after\n",
    "```\n",
    "df[pass_filter][[\"player1_team\", \"event\"]].groupby(\"player1_team\").size()\n",
    "```"
   ]
  },
  {
   "cell_type": "code",
   "execution_count": 25,
   "id": "91773791-ee49-42c6-b055-3dd6c1cf334e",
   "metadata": {},
   "outputs": [
    {
     "data": {
      "text/plain": [
       "player1_team\n",
       "arsenal    450\n",
       "man_u      341\n",
       "dtype: int64"
      ]
     },
     "execution_count": 25,
     "metadata": {},
     "output_type": "execute_result"
    }
   ],
   "source": [
    "df[pass_filter][[\"player1_team\", \"event\"]].groupby(\"player1_team\").size()"
   ]
  },
  {
   "cell_type": "code",
   "execution_count": null,
   "id": "eb2232dd-0826-4cbf-b16f-e646f848839c",
   "metadata": {},
   "outputs": [],
   "source": []
  },
  {
   "cell_type": "markdown",
   "id": "e284fde9-bb08-45ba-a8e3-796cc6916979",
   "metadata": {},
   "source": [
    "---\n",
    "> ### 4. DATA ANALYSIS & VISUALISATION"
   ]
  },
  {
   "cell_type": "markdown",
   "id": "4f553cf1-cf8d-4a28-8360-b0c9f9f1f88a",
   "metadata": {},
   "source": [
    "**4.0 VIZ** - copy the code from `3.3` and further chain a function called `plot()`, specifying the kind of plot as a `pie` and automatic % calculation in the format `%.0f%%`\n",
    "```\n",
    "df[pass_filter][[\"player1_team\", \"event\"]].groupby(\"player1_team\").size().plot(kind=\"pie\", autopct=\"%.0f%%\")\n",
    "```"
   ]
  },
  {
   "cell_type": "code",
   "execution_count": 26,
   "id": "1baba6b4-6e58-4029-b263-e22f65cfa60b",
   "metadata": {},
   "outputs": [
    {
     "data": {
      "text/plain": [
       "<matplotlib.axes._subplots.AxesSubplot at 0x10da4dcd0>"
      ]
     },
     "execution_count": 26,
     "metadata": {},
     "output_type": "execute_result"
    },
    {
     "data": {
      "image/png": "[encoded data removed]",
      "text/plain": [
       "<Figure size 432x288 with 1 Axes>"
      ]
     },
     "metadata": {},
     "output_type": "display_data"
    }
   ],
   "source": [
    "df[pass_filter][[\"player1_team\", \"event\"]].groupby(\"player1_team\").size().plot(kind=\"pie\", autopct=\"%.0f%%\")"
   ]
  },
  {
   "cell_type": "code",
   "execution_count": null,
   "id": "824cccc6-3b68-4a18-90cc-5043a3d62eb9",
   "metadata": {},
   "outputs": [],
   "source": []
  },
  {
   "cell_type": "markdown",
   "id": "235266c0-9b5c-4bdd-b2ef-6fe1131bf7a2",
   "metadata": {},
   "source": [
    "**4.1 VIZ** - copy the code from `4.0` and specify an additional input in the `plot()` function, namely the `colors` of the plot as a list object (`[]`) with 2 named colors that will be applied to the 2 categories in alphabetical order | TIP: Check out the range of official named colors you can use with matplotlib https://matplotlib.org/stable/gallery/color/named_colors.html#css-colors\n",
    "\n",
    "```\n",
    "df[pass_filter][[\"player1_team\", \"event\"]].groupby(\"player1_team\").size().plot(kind=\"pie\", autopct=\"%.0f%%\", colors=[\"red\", \"blue\"])\n",
    "```"
   ]
  },
  {
   "cell_type": "code",
   "execution_count": 27,
   "id": "cf39da08-dfcf-4bf3-a713-e855d79712fb",
   "metadata": {},
   "outputs": [
    {
     "data": {
      "text/plain": [
       "<matplotlib.axes._subplots.AxesSubplot at 0x10d9cc1f0>"
      ]
     },
     "execution_count": 27,
     "metadata": {},
     "output_type": "execute_result"
    },
    {
     "data": {
      "image/png": "[encoded data removed]",
      "text/plain": [
       "<Figure size 432x288 with 1 Axes>"
      ]
     },
     "metadata": {},
     "output_type": "display_data"
    }
   ],
   "source": [
    "df[pass_filter][[\"player1_team\", \"event\"]].groupby(\"player1_team\").size().plot(kind=\"pie\", autopct=\"%.0f%%\", colors=[\"red\", \"blue\"])"
   ]
  },
  {
   "cell_type": "code",
   "execution_count": null,
   "id": "ecc6adb8-6450-4e9f-924d-54b7a3e4158a",
   "metadata": {},
   "outputs": [],
   "source": []
  },
  {
   "cell_type": "markdown",
   "id": "619f209e-2864-445d-92bf-d263cf23cde7",
   "metadata": {},
   "source": [
    "---"
   ]
  },
  {
   "cell_type": "markdown",
   "id": "9be3a1ff-fc9e-4260-9a10-e7c7f855fa7d",
   "metadata": {},
   "source": [
    "_Sports Python Educational Project content, licensed under Attribution-NonCommercial-ShareAlike 4.0 International_"
   ]
  }
 ],
 "metadata": {
  "kernelspec": {
   "display_name": "Python 3 (ipykernel)",
   "language": "python",
   "name": "python3"
  },
  "language_info": {
   "codemirror_mode": {
    "name": "ipython",
    "version": 3
   },
   "file_extension": ".py",
   "mimetype": "text/x-python",
   "name": "python",
   "nbconvert_exporter": "python",
   "pygments_lexer": "ipython3",
   "version": "3.9.7"
  }
 },
 "nbformat": 4,
 "nbformat_minor": 5
}
